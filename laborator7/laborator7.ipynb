{
  "nbformat": 4,
  "nbformat_minor": 0,
  "metadata": {
    "colab": {
      "name": "Copy of Laborator 7.ipynb",
      "provenance": [],
      "collapsed_sections": []
    },
    "kernelspec": {
      "name": "python3",
      "display_name": "Python 3"
    },
    "language_info": {
      "name": "python"
    }
  },
  "cells": [
    {
      "cell_type": "markdown",
      "metadata": {
        "id": "aeqC562fwZAJ"
      },
      "source": [
        "# Rețele neuronale feedforward\n",
        "\n",
        "[Aici](https://stackabuse.com/creating-a-neural-network-from-scratch-in-python/) aveti un tutorial foarte bun pentru a înțelege cum funcționează backpropagation.\n"
      ]
    },
    {
      "cell_type": "code",
      "metadata": {
        "id": "uGvy5ez3hBzq"
      },
      "source": [
        "import numpy as np\n",
        "import matplotlib.pyplot as plt\n",
        "from sklearn.neural_network import MLPClassifier"
      ],
      "execution_count": 2,
      "outputs": []
    },
    {
      "cell_type": "markdown",
      "metadata": {
        "id": "UqCBzI_8MYaL"
      },
      "source": [
        "### Ce ponderi ar trebui sa aibă o rețea cu 2 straturi pentru a da funcția XOR?"
      ]
    },
    {
      "cell_type": "code",
      "metadata": {
        "colab": {
          "base_uri": "https://localhost:8080/"
        },
        "id": "D8FB2hKjhUXk",
        "outputId": "8b663c0f-d0ef-441f-ad72-24a8d2fa30e8"
      },
      "source": [
        "X = np.array([[0, 0], [0, 1], [1, 0], [1, 1]])\n",
        "y = np.array([0, 1, 1, 0])\n",
        "for xi,yi in zip(X, y):\n",
        "    print('Exemplul: ', xi, '; eticheta reala: ', yi)\n"
      ],
      "execution_count": 3,
      "outputs": [
        {
          "output_type": "stream",
          "name": "stdout",
          "text": [
            "Exemplul:  [0 0] ; eticheta:  0\n",
            "Exemplul:  [0 1] ; eticheta:  1\n",
            "Exemplul:  [1 0] ; eticheta:  1\n",
            "Exemplul:  [1 1] ; eticheta:  0\n"
          ]
        }
      ]
    },
    {
      "cell_type": "code",
      "metadata": {
        "id": "e7xge7tp9Gum",
        "colab": {
          "base_uri": "https://localhost:8080/"
        },
        "outputId": "ecfd5ebc-664c-437a-afe1-b4cfdd9d0eda"
      },
      "source": [
        "w1 = np.array([[-1, 1], [1, -1]])\n",
        "print('ponderi stratul 1:\\n', w1)\n",
        "w2 = np.array([[1.0],[1.0]])\n",
        "print('ponderi stratul 2:\\n', w2)\n",
        "\n",
        "b1 = np.array([-0.5, -0.5])\n",
        "print('bias strat 1:\\n', b1)\n",
        "b2 = np.array([0])\n",
        "print('bias strat 2:\\n', b2)\n"
      ],
      "execution_count": 19,
      "outputs": [
        {
          "output_type": "stream",
          "name": "stdout",
          "text": [
            "ponderi stratul 1:\n",
            " [[-1  1]\n",
            " [ 1 -1]]\n",
            "ponderi stratul 2:\n",
            " [[1.]\n",
            " [1.]]\n",
            "bias strat 1:\n",
            " [-0.5 -0.5]\n",
            "bias strat 2:\n",
            " [0]\n"
          ]
        }
      ]
    },
    {
      "cell_type": "code",
      "metadata": {
        "id": "H38i4iuP-V_E",
        "colab": {
          "base_uri": "https://localhost:8080/"
        },
        "outputId": "6d89505d-5bbe-4da0-8ac6-b19d9314e716"
      },
      "source": [
        "def relu(vector_de_numere):\n",
        "    \"\"\"Rectified Linear Unit\n",
        "    https://machinelearningmastery.com/rectified-linear-activation-function-for-deep-learning-neural-networks/\n",
        "    \"\"\"\n",
        "    vector_de_numere = np.array(vector_de_numere)\n",
        "    # if nr < 0:\n",
        "    #     return 0\n",
        "    vector_de_numere[vector_de_numere < 0] = 0\n",
        "    return vector_de_numere\n",
        "print(relu([10, 2, 3, -0.2, -0, -10]))\n"
      ],
      "execution_count": 16,
      "outputs": [
        {
          "output_type": "stream",
          "name": "stdout",
          "text": [
            "[10.  2.  3.  0.  0.  0.]\n"
          ]
        }
      ]
    },
    {
      "cell_type": "code",
      "metadata": {
        "colab": {
          "base_uri": "https://localhost:8080/"
        },
        "id": "SNWv81toAPiK",
        "outputId": "ac244ef2-e8c7-42c8-e440-a0829cbae2d0"
      },
      "source": [
        "\n",
        "for xi in X:\n",
        "    output_strat_1 = relu(np.dot(xi, w1) + b1)\n",
        "    output_strat_2 = np.dot(output_strat_1, w2) + b2\n",
        "    rezultat = np.ceil(relu(output_strat_2))\n",
        "    print('Pentru input: ', xi, ' rezultatul este: ', rezultat)"
      ],
      "execution_count": 22,
      "outputs": [
        {
          "output_type": "stream",
          "name": "stdout",
          "text": [
            "Pentru input:  [0 0]  rezultatul este:  [0.]\n",
            "Pentru input:  [0 1]  rezultatul este:  [1.]\n",
            "Pentru input:  [1 0]  rezultatul este:  [1.]\n",
            "Pentru input:  [1 1]  rezultatul este:  [0.]\n"
          ]
        }
      ]
    },
    {
      "cell_type": "code",
      "metadata": {
        "id": "EExEKz-X9sym",
        "colab": {
          "base_uri": "https://localhost:8080/"
        },
        "outputId": "9f86900b-93cb-4aba-9ed1-95fce48e1335"
      },
      "source": [
        "mlp = MLPClassifier(hidden_layer_sizes=(2,), activation='relu',\n",
        "                max_iter=100, solver='lbfgs')\n",
        "mlp.fit(X, y)\n",
        "y_pred = mlp.predict(X)                     \n",
        "print(y_pred)\n",
        "print(mlp.coefs_)\n",
        "print(mlp.intercepts_)"
      ],
      "execution_count": 54,
      "outputs": [
        {
          "output_type": "stream",
          "name": "stdout",
          "text": [
            "[0 1 1 0]\n",
            "[array([[ 3.30966681,  4.91933176],\n",
            "       [-3.30593673, -4.91932776]]), array([[-5.03215071],\n",
            "       [ 6.91254699]])]\n",
            "[array([ 4.27538051e+00, -3.71571569e-06]), array([13.06702845])]\n"
          ]
        }
      ]
    },
    {
      "cell_type": "code",
      "metadata": {
        "colab": {
          "base_uri": "https://localhost:8080/"
        },
        "id": "uBIt2VMXL_al",
        "outputId": "e00465ca-9031-4b7f-c112-19e8f9261ed6"
      },
      "source": [
        "\n",
        "for xi in X:\n",
        "    output_strat_1 = relu(np.dot(xi, mlp.coefs_[0]) + mlp.intercepts_[0])\n",
        "    output_strat_2 = np.dot(output_strat_1, mlp.coefs_[1]) + mlp.intercepts_[1]\n",
        "    rezultat = np.ceil(relu(output_strat_2))\n",
        "    print('Pentru input: ', xi, ' rezultatul este: ', rezultat)"
      ],
      "execution_count": 55,
      "outputs": [
        {
          "output_type": "stream",
          "name": "stdout",
          "text": [
            "Pentru input:  [0 0]  rezultatul este:  [0.]\n",
            "Pentru input:  [0 1]  rezultatul este:  [9.]\n",
            "Pentru input:  [1 0]  rezultatul este:  [9.]\n",
            "Pentru input:  [1 1]  rezultatul este:  [0.]\n"
          ]
        }
      ]
    },
    {
      "cell_type": "code",
      "metadata": {
        "colab": {
          "base_uri": "https://localhost:8080/"
        },
        "id": "PB3aQ1ouLAol",
        "outputId": "84d408d1-df77-4046-92ed-83d8428b8d66"
      },
      "source": [
        ""
      ],
      "execution_count": 38,
      "outputs": [
        {
          "output_type": "stream",
          "name": "stdout",
          "text": [
            "[array([[-2.10670812e-19, -9.76565097e-01,  1.08118115e-08,\n",
            "        -1.84042758e+00],\n",
            "       [ 8.94559687e-28,  1.16697680e+00, -3.61517323e-04,\n",
            "         1.84050591e+00]]), array([[ 6.40177520e-06, -1.39408140e-04],\n",
            "       [-8.97698244e-01,  1.66317588e+00],\n",
            "       [ 1.78000882e-11,  4.34252685e-14],\n",
            "       [ 1.79813808e+00, -1.57394705e+00]]), array([[ 2.18725108],\n",
            "       [-2.10696908]])]\n"
          ]
        }
      ]
    },
    {
      "cell_type": "markdown",
      "metadata": {
        "id": "lUgkXff-MuIk"
      },
      "source": [
        "### Suprafata de decizie"
      ]
    },
    {
      "cell_type": "code",
      "metadata": {
        "colab": {
          "base_uri": "https://localhost:8080/",
          "height": 269
        },
        "id": "K_SW68_kiIUk",
        "outputId": "57165e14-b60b-4223-d6e4-370774fb64ca"
      },
      "source": [
        "points = np.random.rand(1000,2)\n",
        "labels = mlp.predict(points)\n",
        "plt.ylim((0, 1))    \n",
        "plt.xlim((0, 1))  \n",
        "plt.plot(points[labels == 0, 0], points[labels == 0, 1], 'ro')\n",
        "plt.plot(points[labels == 1, 0], points[labels == 1, 1], 'g+')\n",
        "plt.show()"
      ],
      "execution_count": 56,
      "outputs": [
        {
          "output_type": "display_data",
          "data": {
            "image/png": "[encoded data removed]",
            "text/plain": [
              "<Figure size 432x288 with 1 Axes>"
            ]
          },
          "metadata": {
            "needs_background": "light"
          }
        }
      ]
    },
    {
      "cell_type": "markdown",
      "metadata": {
        "id": "gFlm0G-kWoTz"
      },
      "source": [
        "### Ce se intampla cand crestem numarul de neuroni pe strat?"
      ]
    },
    {
      "cell_type": "code",
      "metadata": {
        "colab": {
          "base_uri": "https://localhost:8080/"
        },
        "id": "YeaScgWsiM2N",
        "outputId": "308e8ca1-68bd-4c26-ec8f-867090bb6498"
      },
      "source": [
        "mlp2 = MLPClassifier(hidden_layer_sizes=(10,), activation='relu',solver='lbfgs',alpha=0.001, max_iter=10000)\n",
        "mlp2.fit(X, y)                   \n",
        "y_pred=mlp2.predict(X)            \n",
        "print(y_pred)"
      ],
      "execution_count": 57,
      "outputs": [
        {
          "output_type": "stream",
          "name": "stdout",
          "text": [
            "[0 1 1 0]\n"
          ]
        }
      ]
    },
    {
      "cell_type": "code",
      "metadata": {
        "colab": {
          "base_uri": "https://localhost:8080/",
          "height": 269
        },
        "id": "ERwBLcvAjoHZ",
        "outputId": "4d5c47ea-9556-40b2-b356-bb510617f850"
      },
      "source": [
        "points = np.random.rand(1000,2)\n",
        "labels = mlp2.predict(points)\n",
        "plt.ylim((0, 1))    \n",
        "plt.xlim((0, 1))  \n",
        "plt.plot(points[labels == 0, 0], points[labels == 0, 1], 'ro')\n",
        "plt.plot(points[labels == 1, 0], points[labels == 1, 1], 'g+')\n",
        "plt.show()\n"
      ],
      "execution_count": 58,
      "outputs": [
        {
          "output_type": "display_data",
          "data": {
            "image/png": "[encoded data removed]",
            "text/plain": [
              "<Figure size 432x288 with 1 Axes>"
            ]
          },
          "metadata": {
            "needs_background": "light"
          }
        }
      ]
    },
    {
      "cell_type": "code",
      "metadata": {
        "id": "L0H3yIacjzW0"
      },
      "source": [
        ""
      ],
      "execution_count": null,
      "outputs": []
    },
    {
      "cell_type": "markdown",
      "metadata": {
        "id": "RLUiv0aT75Oc"
      },
      "source": [
        "## Clasificarea unor puncte in triunghi\n"
      ]
    },
    {
      "cell_type": "code",
      "metadata": {
        "id": "bFYB-44X7657",
        "colab": {
          "base_uri": "https://localhost:8080/",
          "height": 269
        },
        "outputId": "5223e88a-2888-4da5-ecb1-c4031a63287a"
      },
      "source": [
        "#eticheteaza punctele din triunghi\n",
        "def eticheteazaPuncte(x, y):\n",
        "    if x-y+1 >= 0 and y >= 0 and x+y <= 1:\n",
        "        return 1\n",
        "    return 0\n",
        "\n",
        "\n",
        "points = np.random.rand(20000,2)*4-2\n",
        "labels = np.zeros(20000)\n",
        "for i in range(20000):\n",
        "    labels[i] = eticheteazaPuncte(points[i,0],points[i,1])\n",
        "plt.ylim((-2, 2))    \n",
        "plt.xlim((-2, 2))  \n",
        "plt.plot(points[labels == 0, 0], points[labels == 0, 1], 'ro')\n",
        "plt.plot(points[labels == 1, 0], points[labels == 1, 1], 'go')\n",
        "plt.show()\n",
        "\n"
      ],
      "execution_count": 59,
      "outputs": [
        {
          "output_type": "display_data",
          "data": {
            "image/png": "[encoded data removed]",
            "text/plain": [
              "<Figure size 432x288 with 1 Axes>"
            ]
          },
          "metadata": {
            "needs_background": "light"
          }
        }
      ]
    },
    {
      "cell_type": "code",
      "metadata": {
        "colab": {
          "base_uri": "https://localhost:8080/"
        },
        "id": "ZlhmZSx6W0eg",
        "outputId": "a50edbcf-30cb-49bf-d9de-d780c0d9531b"
      },
      "source": [
        "\n",
        "train_points = points[:10000,:]\n",
        "train_labels = labels[:10000]\n",
        "test_points = points[10000:20000,:]\n",
        "test_labes = labels[10000:20000]\n",
        "print(train_points.shape)\n",
        "print(test_points.shape)\n",
        "print(points.shape)\n",
        "\n"
      ],
      "execution_count": 60,
      "outputs": [
        {
          "output_type": "stream",
          "name": "stdout",
          "text": [
            "(10000, 2)\n",
            "(10000, 2)\n",
            "(20000, 2)\n"
          ]
        }
      ]
    },
    {
      "cell_type": "code",
      "metadata": {
        "colab": {
          "base_uri": "https://localhost:8080/",
          "height": 269
        },
        "id": "kc2sVga7W2PC",
        "outputId": "adba9a1c-c324-4dee-a7dc-4b7afa737a60"
      },
      "source": [
        "\n",
        "model = MLPClassifier(activation='relu', max_iter=10000, hidden_layer_sizes=(100,100), alpha=0.001, solver='lbfgs', verbose = True)\n",
        "model.fit(train_points, train_labels)\n",
        "labels_predicted = model.predict(test_points)\n",
        "plt.ylim((-2, 2))    \n",
        "plt.xlim((-2, 2))  \n",
        "plt.plot(test_points[labels_predicted == 0, 0], test_points[labels_predicted == 0, 1], 'ro')\n",
        "plt.plot(test_points[labels_predicted == 1, 0], test_points[labels_predicted == 1, 1], 'go')\n",
        "plt.show()\n",
        "\n"
      ],
      "execution_count": 61,
      "outputs": [
        {
          "output_type": "display_data",
          "data": {
            "image/png": "[encoded data removed]",
            "text/plain": [
              "<Figure size 432x288 with 1 Axes>"
            ]
          },
          "metadata": {
            "needs_background": "light"
          }
        }
      ]
    }
  ]
}