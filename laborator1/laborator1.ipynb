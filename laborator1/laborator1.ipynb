{
  "nbformat": 4,
  "nbformat_minor": 0,
  "metadata": {
    "colab": {
      "provenance": [],
      "collapsed_sections": [
        "VZhMH6FrWN2z"
      ]
    },
    "kernelspec": {
      "name": "python3",
      "display_name": "Python 3"
    },
    "language_info": {
      "name": "python"
    }
  },
  "cells": [
    {
      "cell_type": "markdown",
      "metadata": {
        "id": "YubjO0h_BTc7"
      },
      "source": [
        "# Tutorial python\n",
        "La adresa https://docs.python.org/3/tutorial/ se afla un scurt tutorial\n",
        "despre Python. \n",
        "\n",
        "Un tutorial vizual despre numpy este aici: https://jalammar.github.io/visual-numpy/\n"
      ]
    },
    {
      "cell_type": "code",
      "metadata": {
        "id": "dpy9CFbxBOpw"
      },
      "source": [
        "x = 3\n",
        "print(type(x))"
      ],
      "execution_count": null,
      "outputs": []
    },
    {
      "cell_type": "code",
      "metadata": {
        "id": "tsQMz8tLBtaB"
      },
      "source": [
        "# cel mai mare int in python ???\n",
        "x = 999999999999999999999999999999999999999999999999999999999999999999999999999999999999999999999999999999999999999999999999999999999999999999999999999999999999999999999999999999999999999999999999999999999999999999999999999999999999999999999999999999999999999999999999999999999999999999999999999999999999999999999999999999999999999999999999999999999999999999999999999999999999999999999999999999999999999999999999999999999999999999999999999999999999999999999999999999999999999999999999999999999999999999999999999999999999999999999999999999999999999999999999999999999999999999999999999999999999999999999999999999999999999999999999999999999999999999999999999999999999999999999999999999999999999999999999999999999999999999999999999999999999999999999999999999999999999999999999999999999999999999999999999999999999999999999999999999999999999999999999999999999999999999999999999999999999999999999999999999999999999999999999999999999999999999999999999999999999999999999999999999999999999999999999999999999999999999999999999999999999999999999999999999999999999999999999999999999999999999999999999999999999999999999999999999999999999999999999999999999999999999999999999999999999999999999999999999999999999999999999999999999999999999999999999999999999999999999999999999999999999999999999999999999999999999999999999999999999999999999999999999999999999999999999999999999999999999999999999999999999999999999999999999999999999999999999999999999999999999999999999999999999999999999999999999999999999999999999999999999999999999999999999999999999999999999999999999999999999999999999999999999999999999999999999999999999999999999999999999999999999999999999999999999999999999999999999999999999999999999999999999999999999999999999999999999999999999999999999999999999999999999999999999999999999999999999999999999999999999999999999999999999999999999999999999999999999999999999999999999999999999999999999999999999999999999999999999999999999999999999999999999999999999999999999999999999999999999999999999999999999999999999999999999999999999999999999999999999999999999999999999999999999999999999999999999999999999999999999999999999999999999999999999999999999999999999999999999999999999999999999999999999999999999999999999999999999999999999999999999999999999999999999999999999999999999999999999999999999999999999999999999999999999999999999999999999999999999999999999999999999999999999999999999999999999999999999999999999999999999999999999999999999999999999999999999999999999999999999999999999999999999999999999999999999999999999999999999999999999999999999999999999999999999999999999999999999999999999999999999999999999999999999999999999999999999999999999999999999999999999999999999999999999999999999999999999999999999999999999999999999999999999999999999999999999999999999999999999999999999999999999999999999999999999999999999999999999999999999999999999999999999999999999999999999999999999999999999999999999999999999999999999999999999999999999999999999999999999999999999999999999999999999999999999999999999999999999999999999999999999999999999999999999999999999999999999999999999999999999999999999999999999999999999999999999999999999999999999999999999999999999999999999999999999999999999999999999999999999999999999999999999999999999999999999999999999999999999999999999999999999999999999999999999999999999999999999999999999999999999999999999999999999999999999999999999999999999999999999999999999999999999999999999999999999999999999999999999999999999999999999999999999999999999999999999999999999999999999999999999999999999999999999999999999999999999999999999999999999999999999999999999999999999999999999999999999999999999999999999999999999999999999999999999999999999999999999999999999999999999999999999999999999999999999999999999999999999999999999999999999999999999999999999999999999999999999999999999999999999999999999999999999999999999999999999999999999999999999999999999999999999999999999999999999999999999999999999999999999999999999999999999999999999999999999999999999999999999999999999999999999999999999999999999999999999999999999999999999999999999999999999999999999999999999999999999999999999999999999999999999999999999999999999999999999999999999999999999999999999999999999999999999999999999999999999999999999999999999999999999999999999999999999999999999999999999999999999999999999999999999999999999999999999999999999999999999999999999999999999999999999999999999999999999999999999999999999999999999999999999999999999999999999999999999999999999999999999999999999999999999999999999999999999999999999999999999999999999999999999999999999999999999999999999999999999999999999999999999999999999999999999999999999999999999999999999999999999999999999999999999999999999999999999999999999999999999999999999999999999999999999999999999999999999999999999999999999999999999999999999999999999999999999999999999999999999999999999999999999999999999999999999999999999999999999999999999999999999999999999999999999999999999999999999999999999999999999999999999999999999999999999999999999999999999999999999999999999999999999999999999999999999999999999999999999999999999999999999999999999999999999999999999999999999999999999999999999999999999999999999999999999999999999999999999999999999999999999999999999999999999999999999999999999999999999999999999999999999999999999999999999999999999999999999999999999999999999999999999999999999999999999999999999999999999999999999999999999999999999999999999999999999999999999999999999999999999999999999999999999999999999999999999999999999999999999999999999999999999999999999999999999999999999999999999999999999999999999999999999999999999999999999999999999999999999999999999999999999999999999999999999999999999999999999999999999999999999999999999999999999999999999999999999999999999999999999999999999999999999999999999999999999999999999999999999999999999999999999999999999999999999999999999999999999999999999999999999999999999999999999999999999999999999999999999999999999999999999999999999999999999999999999999999999999999999999999999999999999999999999999999999999999999999999999999999999999999999999999999999999999999999999999999999999999999999999999999999999999999999999999999999999999999999999999999999999999999999999999999999999999999999999999999999999999999999999999999999999999999999999999999999999999999999999999999999999999999999999999999999999999999999999999999999999999999999999999999999999999999999999999999999999999999999999999999999999999999999999999999999999999999999999999999999999999999999999999999999999999999999999999999999999999999999999999999999999999999999999999999999999999999999999999999999999999999999999999999999999999999999999999999999999999999999999999999999999999999999999999999999999999999999999999999999999999999999999999999999999999999999999999999999999999999999999999999999999999999999999999999999999999999999999999999999999999999999999999999999999999999999999999999999999999999999999999999999999999999999999999999999999999999999999999999999999999999999999999999999999999999999999999999999999999999999999999999999999999999999999999999999999999999999999999999999999999999999999999999999999999999999999999999999999999999999999999999999999999999999999999999999999999999999999999999999999999999999999999999999999999999999999999999999999999999999999999999999999999999999999999999999999999999999999999999999999999999999999999999999999999999999999999999999999999999999999999999999999999999999999999999999999999999999999999999999999999999999999999999999999999999999999999999999999999999999999999999999999999999999999999999999999999999999999999999999999999999999999999999999999999999999999999999999999999999999999999999999999999999999999999999999999999999999999999999999999999999999999999999999999999999999999999999999999999999999999999999999999999999999999999999999999999999999999999999999999999999999999999999999999999999999999999999999999999999999999999999999999999999999999999999999999999999999999999999999999999999999999999999999999999999999999999999999999999999999999999999999999999999999999999999999999999999999999999999999999999999999999999999999999999999999999999999999999999999999999999999999999999999999999999999999999999999999999999999999999999999999999999999999999999999999999\n",
        "print(x*x)"
      ],
      "execution_count": null,
      "outputs": []
    },
    {
      "cell_type": "code",
      "metadata": {
        "id": "iG01pwylBvLT"
      },
      "source": [
        "print(x + 1)\n",
        "print(x - 1)\n",
        "print(x * 2)\n",
        "print(x ** 2)"
      ],
      "execution_count": null,
      "outputs": []
    },
    {
      "cell_type": "code",
      "metadata": {
        "id": "gF4JcdlNBzKZ"
      },
      "source": [
        "x += 1\n",
        "print(x)\n",
        "x *= 2\n",
        "print(x)"
      ],
      "execution_count": null,
      "outputs": []
    },
    {
      "cell_type": "code",
      "metadata": {
        "id": "buyIxaihB13J"
      },
      "source": [
        "y = 2.5\n",
        "print(type(y))\n",
        "print(y, y + 1, y * 2, y ** 2)"
      ],
      "execution_count": null,
      "outputs": []
    },
    {
      "cell_type": "markdown",
      "metadata": {
        "id": "Gph1FdDUB7Tz"
      },
      "source": [
        "# **Bool**: Pentru operatiile cu variabile de tip bool nu se folosesc simbolurile && si ||, ci and sau or."
      ]
    },
    {
      "cell_type": "code",
      "metadata": {
        "id": "cRMSMCETB9tF"
      },
      "source": [
        "t = True\n",
        "f = False\n",
        "print(type(t))\n",
        "print(t and f)\n",
        "print(t or f)\n",
        "print(not t)\n",
        "print(t != f)"
      ],
      "execution_count": null,
      "outputs": []
    },
    {
      "cell_type": "markdown",
      "metadata": {
        "id": "t4WrIslbCMmI"
      },
      "source": [
        "# **String** : Python ofera multe functii pentru sirurile de caractere."
      ]
    },
    {
      "cell_type": "code",
      "metadata": {
        "id": "dSW3z9DnCODs"
      },
      "source": [
        "hello = 'hello' \n",
        "world = \"world\"\n",
        "\n",
        "print(hello)\n",
        "print(len(hello))\n",
        "\n",
        "hw = hello + ' ' + world \n",
        "print(hw)\n",
        "\n",
        "hw12 = '%s %s %d' % (hello, world, 12) \n",
        "print(hw12) \n",
        "\n",
        "s = \"hello\"\n",
        "print(s.capitalize())\n",
        "print(s.upper())\n",
        "print(s.replace('l', '(ell)')) \n",
        "\n",
        "print(' hello \\\n",
        "world   \\n\\n \\\n",
        "'.strip() ) "
      ],
      "execution_count": null,
      "outputs": []
    },
    {
      "cell_type": "code",
      "metadata": {
        "id": "XHwHJei9DfD4"
      },
      "source": [
        "print(hw[0])\n",
        "# stringurile nu sunt mutabile\n",
        "hw[0] = 'x'"
      ],
      "execution_count": null,
      "outputs": []
    },
    {
      "cell_type": "markdown",
      "metadata": {
        "id": "vt9Q3XVcCjyl"
      },
      "source": [
        "# **Liste**: O lista este echivalenta cu un vector, dar se poate redimensiona si poate contine elemente de tipuri diferite.\n"
      ]
    },
    {
      "cell_type": "code",
      "metadata": {
        "id": "EgFE87ErCpYN"
      },
      "source": [
        "xs = [3, 1, 2]\n",
        "print(xs, xs[2])\n",
        "print(xs[-1])\n",
        "# listele sunt mutabile, elementele pot fi modificate intern\n",
        "xs[2] = 'foo'\n",
        "print(xs)\n",
        "xs.append('bar')\n",
        "xs += ['foobar']\n",
        "print(xs)\n",
        "# functiile append, pop, modifica intern o lista si nu returneaza o copie\n",
        "x = xs.pop()\n",
        "y = xs.pop(-1)\n",
        "print(x, y, xs)"
      ],
      "execution_count": null,
      "outputs": []
    },
    {
      "cell_type": "code",
      "metadata": {
        "id": "DMRhqgzsDGcl"
      },
      "source": [
        "# listele sunt mutabile, o copie nu e o copie, ci o referinta la aceeasi\n",
        "# adresa de memore\n",
        "# https://developers.google.com/edu/python/lists\n",
        "l1 = [1,2,3]\n",
        "l2 = l1\n",
        "l2.append(100)\n",
        "print(l1)\n",
        "print(id(l1))\n",
        "print(id(l2))"
      ],
      "execution_count": null,
      "outputs": []
    },
    {
      "cell_type": "code",
      "metadata": {
        "id": "vaPi3vXuEKuE"
      },
      "source": [
        "from copy import copy\n",
        "# copy face o copie\n",
        "l2 = copy(l1)\n",
        "l1.append(1000000)\n",
        "print(l2)\n",
        "# id-uri diferite\n",
        "print(id(l1))\n",
        "print(id(l2))"
      ],
      "execution_count": null,
      "outputs": []
    },
    {
      "cell_type": "code",
      "metadata": {
        "id": "3LrL1cgmCzuS"
      },
      "source": [
        "# listele sunt mutabile\n",
        "def f(l):\n",
        "  print(l)\n",
        "  l.append(100)\n",
        "  return 0\n",
        "\n",
        "l = [1,2,3]\n",
        "f(l)\n",
        "# in urma apelului se modifica\n",
        "print(l)"
      ],
      "execution_count": null,
      "outputs": []
    },
    {
      "cell_type": "markdown",
      "metadata": {
        "id": "PyAqOqNPEuFR"
      },
      "source": [
        "## **Slicing** – putem accesa o sublista a unei liste"
      ]
    },
    {
      "cell_type": "code",
      "metadata": {
        "id": "t1c3SAteEs1N"
      },
      "source": [
        "nums = list(range(5))\n",
        "print(nums)"
      ],
      "execution_count": null,
      "outputs": []
    },
    {
      "cell_type": "code",
      "metadata": {
        "id": "kc8KuiAwE465"
      },
      "source": [
        "print(nums[2:4])\n",
        "print(nums[2:])\n",
        "print(nums[:2])"
      ],
      "execution_count": null,
      "outputs": []
    },
    {
      "cell_type": "code",
      "metadata": {
        "id": "gQUY7Z5ZE7Ts"
      },
      "source": [
        "print(nums[:])\n",
        "print(nums[:-1])\n",
        "print(nums[-2])\n",
        "\n",
        "print(nums[::-1])"
      ],
      "execution_count": null,
      "outputs": []
    },
    {
      "cell_type": "code",
      "metadata": {
        "id": "dAvrP6n_FABh"
      },
      "source": [
        "# un slice se poate asigna\n",
        "nums[2:4] = [8, 9]\n",
        "print(nums)"
      ],
      "execution_count": null,
      "outputs": []
    },
    {
      "cell_type": "markdown",
      "metadata": {
        "id": "23AkJGHTFIW8"
      },
      "source": [
        "# **Loops**: Putem itera prin elementele unei liste in felul urmator:"
      ]
    },
    {
      "cell_type": "code",
      "metadata": {
        "id": "AC7RByQBFHRm"
      },
      "source": [
        "animals = ['cat', 'dog', 'monkey']\n",
        "for animal in animals:\n",
        "  print(animal)"
      ],
      "execution_count": null,
      "outputs": []
    },
    {
      "cell_type": "markdown",
      "metadata": {
        "id": "n3_IbrLQFOLh"
      },
      "source": [
        "Daca vrem sa accesam indicele fiecarui element in corpul buclei, putem folosi functia **enumerate**."
      ]
    },
    {
      "cell_type": "code",
      "metadata": {
        "id": "shBvjjjfFMBu"
      },
      "source": [
        "animals = ['cat', 'dog', 'monkey']\n",
        "for idx, animal in enumerate(animals):\n",
        "  print('#%d: %s' % (idx + 1, animal))"
      ],
      "execution_count": null,
      "outputs": []
    },
    {
      "cell_type": "markdown",
      "metadata": {
        "id": "qRfgHYWEFTwI"
      },
      "source": [
        "Daca avem doua liste X si Y si trebuie sa formam perechi (x i , y i ) cu elementele listelor putem folosi functia **zip**"
      ]
    },
    {
      "cell_type": "code",
      "metadata": {
        "id": "edyS61QxFWoi"
      },
      "source": [
        "X = [1, 2, 3, 4, 5]\n",
        "Y = [9, 8, 7]\n",
        "# inmultim listele element cu element (element wise)\n",
        "xy_dot = [a * b for (a, b) in zip(X, Y)]\n",
        "# se formeaza perechi cu al i-lea element din prima lista si \n",
        "# al i-lea din a doua lista\n",
        "print(xy_dot)"
      ],
      "execution_count": null,
      "outputs": []
    },
    {
      "cell_type": "markdown",
      "metadata": {
        "id": "b65cwkE5FiS4"
      },
      "source": [
        "## **List comprehensions**: Deseori vrem sa transformam un tip de date intr-un altul. \n",
        "Ca un exemplu, sa consideram urmatorul cod care calculeaza patratele numerelor:"
      ]
    },
    {
      "cell_type": "code",
      "metadata": {
        "id": "7esaoYEuFhja"
      },
      "source": [
        "nums = [0, 1, 2, 3, 4]\n",
        "squares = []\n",
        "for x in nums:\n",
        "  squares.append(x ** 2)\n",
        "print(squares)"
      ],
      "execution_count": null,
      "outputs": []
    },
    {
      "cell_type": "code",
      "metadata": {
        "id": "gppTfMRTFqZ2"
      },
      "source": [
        "# Putem scrie codul mult mai scurt (nu neaparat mai simplu !!!) folosind list comprehensions:\n",
        "nums = [0, 1, 2, 3, 4]\n",
        "squares = [x ** 2 for x in nums]\n",
        "print(squares)"
      ],
      "execution_count": null,
      "outputs": []
    },
    {
      "cell_type": "code",
      "metadata": {
        "id": "s9tX1GyOFxN5"
      },
      "source": [
        "# poate contine si conditii\n",
        "nums = [0, 1, 2, 3, 4]\n",
        "even_squares = [x ** 2 for x in nums if x % 2 == 0]\n",
        "print(even_squares)"
      ],
      "execution_count": null,
      "outputs": []
    },
    {
      "cell_type": "code",
      "metadata": {
        "id": "SEZluJEjF14K"
      },
      "source": [
        "# folosim inmultirea ca truc sa obtinem int\n",
        "bool_list = [True, False, True, True, False]\n",
        "num_list = [x * 1 for x in bool_list]\n",
        "print(num_list)"
      ],
      "execution_count": null,
      "outputs": []
    },
    {
      "cell_type": "markdown",
      "metadata": {
        "id": "s-DkJ9n5OMbe"
      },
      "source": [
        "Pentru început, vă sugerăm să evitați folosirea codului într-o singură linie pentru a evita eventualele erori și pentru a fi mai ușor de făcut debug."
      ]
    },
    {
      "cell_type": "markdown",
      "metadata": {
        "id": "detl_1VVGdfv"
      },
      "source": [
        "# **Dictionare**: Un dictionar stocheaza perechi (cheie, valoare)."
      ]
    },
    {
      "cell_type": "code",
      "metadata": {
        "id": "CeONtVJGGe97"
      },
      "source": [
        "# dictionarele sunt mutabile\n",
        "d = {'cat': 'cute', 'dog': 'furry'}\n",
        "print(d['cat'])\n",
        "print('cat' in d)\n",
        "d['fish'] = 'wet'\n",
        "print(d['fish'])\n"
      ],
      "execution_count": null,
      "outputs": []
    },
    {
      "cell_type": "code",
      "metadata": {
        "id": "BDvURjnfG3Z2"
      },
      "source": [
        "# o cheie lipsa declaneaza exceptie\n",
        "print(d['monkey'])"
      ],
      "execution_count": null,
      "outputs": []
    },
    {
      "cell_type": "code",
      "metadata": {
        "id": "CegNihvAG5aw"
      },
      "source": [
        "print(d.get('monkey', 'default_value'))"
      ],
      "execution_count": null,
      "outputs": []
    },
    {
      "cell_type": "code",
      "metadata": {
        "id": "xb6TZJMOHMCd"
      },
      "source": [
        "d['cat'] = 'woohoo'\n",
        "del d['cat']\n",
        "print(d)\n"
      ],
      "execution_count": null,
      "outputs": []
    },
    {
      "cell_type": "code",
      "metadata": {
        "id": "b8Sa4eZvG_VT"
      },
      "source": [
        "def f(dd):\n",
        "  dd['wolf'] = 'nice'\n",
        "\n",
        "# apelul unei functii poate altera dictionarul\n",
        "f(d)\n",
        "print(d)"
      ],
      "execution_count": null,
      "outputs": []
    },
    {
      "cell_type": "code",
      "metadata": {
        "id": "6PmMZ9YLHVKj"
      },
      "source": [
        "from copy import copy\n",
        "d = {'cat': 'cute', 'dog': 'furry'}\n",
        "supra_d = {'d1':d, 'd2': {'alt':'dictionar'}}\n",
        "\n",
        "c1 = copy(supra_d)\n",
        "# o copie simpla nu se aplica recursiv pe obiectele din dictionar\n",
        "del c1['d1']['dog']\n",
        "print(d)"
      ],
      "execution_count": null,
      "outputs": []
    },
    {
      "cell_type": "code",
      "metadata": {
        "id": "HsbvB926HzBY"
      },
      "source": [
        "from copy import deepcopy\n",
        "d = {'cat': 'cute', 'dog': 'furry'}\n",
        "supra_d = {'d1':d, 'd2': {'alt':'dictionar'}}\n",
        "\n",
        "c1 = deepcopy(supra_d)\n",
        "# deepcopy se aplica si pe obiectele imutabile din dictionar\n",
        "del c1['d1']['dog']\n",
        "print(d)"
      ],
      "execution_count": null,
      "outputs": []
    },
    {
      "cell_type": "code",
      "metadata": {
        "id": "DPjgVBSnIEf1"
      },
      "source": [
        "# cheile si valorile nu sunt in format de liste:\n",
        "print(type(d.keys()))\n",
        "print(type(d.values()))\n",
        "# trebuie convertite cu list( ... )\n",
        "print(list(d.keys()))\n",
        "print(list(d.values()))"
      ],
      "execution_count": null,
      "outputs": []
    },
    {
      "cell_type": "code",
      "metadata": {
        "id": "2dZUSFo2IYWG"
      },
      "source": [
        "# iterarea prin items()\n",
        "for animal, legs in d.items():\n",
        "  print(animal, '  --- ', legs )"
      ],
      "execution_count": null,
      "outputs": []
    },
    {
      "cell_type": "markdown",
      "metadata": {
        "id": "pcUHm8_eIkL4"
      },
      "source": [
        "# **Set**: Un set este o colectie neordonata de elemente unice (cum ar fi cheile unui dictionar fara valori)."
      ]
    },
    {
      "cell_type": "code",
      "metadata": {
        "id": "8OvvuF13IfPb"
      },
      "source": [
        "animals = {'cat', 'dog'}\n",
        "print('cat' in animals)\n",
        "print('fish' in animals)\n",
        "animals.add('fish')\n",
        "print('fish' in animals)\n",
        "print(len(animals))\n",
        "animals.add('cat')\n",
        "print(len(animals))\n",
        "animals.remove('cat')\n",
        "print(len(animals))"
      ],
      "execution_count": null,
      "outputs": []
    },
    {
      "cell_type": "code",
      "metadata": {
        "id": "rDRGIRtAJBmN"
      },
      "source": [
        "A = {1, 2, 3, 4, 5}\n",
        "B = {4, 5, 6, 7, 8}\n",
        "# union\n",
        "print(A | B)\n",
        "print(A.union(B))\n",
        "\n",
        "# intersection\n",
        "print(A & B)\n",
        "print(A.intersection(B))\n",
        "\n",
        "# diferenta\n",
        "print(A - B)\n",
        "print(A.difference(B))\n",
        "\n",
        "# diferenta simetrica - elementele din reuniune care nu sunt in intersectie\n",
        "print(A ^ B) # Afiseaza {1, 2, 3, 6, 7, 8}\n",
        "A.symmetric_difference(B)"
      ],
      "execution_count": null,
      "outputs": []
    },
    {
      "cell_type": "code",
      "metadata": {
        "id": "5Mt4IXaFJZND"
      },
      "source": [
        "# unordered !!!\n",
        "A[0]"
      ],
      "execution_count": null,
      "outputs": []
    },
    {
      "cell_type": "code",
      "metadata": {
        "id": "cqIFMlWdJfXd"
      },
      "source": [
        "# trebuie convertit in lista, dar nu ne garanteaza vreo ordine sortata\n",
        "list(A)[0]"
      ],
      "execution_count": null,
      "outputs": []
    },
    {
      "cell_type": "markdown",
      "metadata": {
        "id": "pjoqh59uJqWu"
      },
      "source": [
        "# **Tuples**: Un **tuplu** este o lista (immutable) ordonata de valori. Tuplu este foarte similar cu o lista, o diferenta fiind ca tuplul poate fi folosit drept cheie in dictionar si ca element a unui set, in schimb lista nu poate fi folosita."
      ]
    },
    {
      "cell_type": "code",
      "metadata": {
        "id": "G0QG-4a6JtCZ"
      },
      "source": [
        "t1 = (1,2)\n",
        "t2 = (2,3)\n",
        "t3 = (1,2)\n",
        "s = {t1, t2, t3}\n",
        "# elementele unice\n",
        "print(s)\n",
        "\n",
        "d = {}\n",
        "d[t1] = 'punct bun'\n",
        "d[t2] = 'punct rau'\n",
        "print(d)"
      ],
      "execution_count": null,
      "outputs": []
    },
    {
      "cell_type": "code",
      "metadata": {
        "id": "wOQ-jEd1KGbj"
      },
      "source": [
        "t = (1,2,3,4,5,6)\n",
        "t[0]"
      ],
      "execution_count": null,
      "outputs": []
    },
    {
      "cell_type": "code",
      "metadata": {
        "id": "seNKuZ7WKRi7"
      },
      "source": [
        "# !!! immutable\n",
        "t[0] = 10"
      ],
      "execution_count": null,
      "outputs": []
    },
    {
      "cell_type": "code",
      "metadata": {
        "id": "Vdc9BrkEKUUO"
      },
      "source": [
        "# trebuie convertit in lista\n",
        "lt = list(t)\n",
        "lt[0] = 10\n",
        "print(lt)"
      ],
      "execution_count": null,
      "outputs": []
    },
    {
      "cell_type": "code",
      "metadata": {
        "id": "DRgCam3eKdUd"
      },
      "source": [
        "def f(tt):\n",
        "  tt = (1,2,3,3,3,4)\n",
        "  return tt\n",
        "# nu se modifica dupa apel\n",
        "print(f(t))\n",
        "print(t)\n"
      ],
      "execution_count": null,
      "outputs": []
    },
    {
      "cell_type": "markdown",
      "metadata": {
        "id": "a5R0DmmjKzvb"
      },
      "source": [
        "# **Functii**. In Python functiile sunt definite cu ajutorul cuvantului-cheie def."
      ]
    },
    {
      "cell_type": "code",
      "metadata": {
        "id": "uy_IOk_kKtuh"
      },
      "source": [
        "def hello(name, loud=False):\n",
        "  if loud:\n",
        "    print('HELLO, %s!' % name.upper())\n",
        "  else:\n",
        "    print('Hello, %s' % name)\n",
        "hello('Bob') # Afiseaza \"Hello, Bob\"\n",
        "hello('Fred', loud=True) # Afiseaza \"HELLO, FRED!\""
      ],
      "execution_count": null,
      "outputs": []
    },
    {
      "cell_type": "markdown",
      "metadata": {
        "id": "ueHutfHRK9Kb"
      },
      "source": [
        "Vom defini o functie care primeste doua liste si returneaza True doar daca listele au lungimea diferita si elementul minim din prima lista nu se afla in a doua lista sau elementul minim din a doua lista se afla in prima lista, altfel va returna False."
      ]
    },
    {
      "cell_type": "code",
      "metadata": {
        "id": "3ZBgiPA9K6sN"
      },
      "source": [
        "def my_function(first_list, second_list):\n",
        "  if(len(first_list) == 0 or len(second_list) == 0):\n",
        "    raise ValueError('Lists must not be empty!')\n",
        "  min_first = min(first_list)\n",
        "  min_second = min(second_list)\n",
        "  if (min_first not in second_list or min_second in first_list) and len(first_list) != len(second_list):\n",
        "    return True\n",
        "  else:\n",
        "    return False\n",
        "first_list = [1, 2, 3, 4]\n",
        "second_list = [0, 1, 3]\n",
        "print(my_function(first_list, second_list)) # Afiseaza False\n",
        "\n",
        "first_list = [-1, 1, 2, 3, 4]\n",
        "second_list = [0, 1, 3]\n",
        "print(my_function(first_list, second_list)) # Afiseaza True\n",
        "\n",
        "first_list = [1, 2, 3, 4]\n",
        "second_list = [0, 1, 3, 9]\n",
        "print(my_function(first_list, second_list)) # Afiseaza False\n"
      ],
      "execution_count": null,
      "outputs": []
    },
    {
      "cell_type": "code",
      "metadata": {
        "id": "Jyq1JsKvLKsx"
      },
      "source": [
        "first_list = [1, 2, 3, 4]\n",
        "second_list = []\n",
        "print(my_function(first_list, second_list)) # ValueError: Lists"
      ],
      "execution_count": null,
      "outputs": []
    },
    {
      "cell_type": "code",
      "metadata": {
        "id": "p4tTOU2GLPMt"
      },
      "source": [
        "import random # importul pachetului\n",
        "def two_rand_nums():\n",
        "  '''Dockblock:\n",
        "  vom defini o functie care va returna doua numere naturale diferite generate aleator in intervalul [0, 5].\n",
        "  '''\n",
        "  a = random.randint(0, 5)\n",
        "  b = random.randint(0, 5)\n",
        "  while(a == b):\n",
        "    print('a == b')\n",
        "    b = random.randint(0, 5)\n",
        "  return a, b\n"
      ],
      "execution_count": null,
      "outputs": []
    },
    {
      "cell_type": "code",
      "metadata": {
        "id": "zam1O8puLchC"
      },
      "source": [
        "print(two_rand_nums())\n",
        "# stringul pe care il scriem sub antetul functiei este mesaj de documentatite\n",
        "# dockblock ce poate fi vizualizat prin help() sau .__doc__\n",
        "print('help')\n",
        "help(two_rand_nums)\n",
        "print('__doc__')\n",
        "print(two_rand_nums.__doc__)"
      ],
      "execution_count": null,
      "outputs": []
    },
    {
      "cell_type": "markdown",
      "metadata": {
        "id": "-A-vi_rnMoqv"
      },
      "source": [
        "# **Clase**: In definirea unei clase, fiecare metoda va avea ca prim argument self, iar accesarea atributele si metodelor in interiorul clasei se face cu self.atribut/ self.metoda()."
      ]
    },
    {
      "cell_type": "code",
      "metadata": {
        "id": "5UkBQC0ZMnW9"
      },
      "source": [
        "class Greeter:\n",
        "  # Constructor\n",
        "  def __init__(self, name):\n",
        "    self.name = name # Crearea unei instante\n",
        "  # Metoda\n",
        "  def greet(self, loud=False):\n",
        "    if loud:\n",
        "      print('HELLO, %s!' % self.name.upper())\n",
        "    else:\n",
        "      print('Hello, %s' % self.name)\n",
        "  def __metoda_private(self):\n",
        "    print('private')\n",
        "  def _metoda_protected(self):\n",
        "    print('protected')\n",
        "\n",
        "\n",
        "g = Greeter('Fred') # Construieste un obiect de tipul Greeter\n",
        "g.greet()\n",
        "# Apeleaza metoda greet(); Afiseaza \"Hello, Fred\"\n",
        "\n",
        "g.greet(loud=True)\n",
        "# Apeleaza metoda greet(); Afiseaza \"HELLO, FRED!\""
      ],
      "execution_count": null,
      "outputs": []
    },
    {
      "cell_type": "code",
      "metadata": {
        "id": "U9fofT4bNIiV"
      },
      "source": [
        "# e private, nu?\n",
        "\n",
        "g.__metoda_private()"
      ],
      "execution_count": null,
      "outputs": []
    },
    {
      "cell_type": "code",
      "metadata": {
        "id": "-DIMj6oJNMck"
      },
      "source": [
        "g._metoda_protected()"
      ],
      "execution_count": null,
      "outputs": []
    },
    {
      "cell_type": "markdown",
      "metadata": {
        "id": "EyWE6EIJN7VP"
      },
      "source": []
    },
    {
      "cell_type": "markdown",
      "metadata": {
        "id": "67_HIJI6Nj4N"
      },
      "source": [
        "# Exerciții de python\n",
        "1. Scrieti o functie care primeste ca argument un numar natural n si afiseaza toti termenii din sirul lui Fibonacii mai mici decat n.\n",
        "2. Scrieti o functie care verifica daca un numar natural n este prim.\n"
      ]
    },
    {
      "cell_type": "markdown",
      "metadata": {
        "id": "VZhMH6FrWN2z"
      },
      "source": [
        "# Exerciții pregătitoare pentru AI\n",
        "1. Scrieți o funcție `def mul(x, w)` care returnează produsul scalar dintre x și w\n",
        "2. Scrieți o funcție `def neuron_liniar(x, weights, bias)` care returnează produsul scalar dintre x*w la care se adună b\n",
        "3. Implementați o funcție `def sigmoid(val)` care returnează valoarea funcției sigmoide https://en.wikipedia.org/wiki/Sigmoid_function\n",
        "4. Impementați o funcție `def sign(val)` care returnează -1 dacă numărul este mai mic decât 0 și 1 dacă val este mai mare sau egal ca zero.\n",
        "5. Să presupunem că avem valori de intrare pentru funcția AND\n",
        "```\n",
        "X_values = [\n",
        "    [0, 0],\n",
        "    [0, 1],\n",
        "    [1, 0],\n",
        "    [1, 1],\n",
        "]\n",
        "```\n",
        "Alegeți la întâmplare niște `weights = [0, 0]` și un `bias = 0` apoi iterați prin valorile `X_values` și afișați rezultatul funcției `neuron_liniar`.\n",
        "Ce valori trebuie să conțină weights și bias astfel încât funcția `sign` aplicată rezultatului `neuron_liniar` să returneze -1 dacă rezultatul AND este adevărat și 1 dacă este fals?\n"
      ]
    },
    {
      "cell_type": "code",
      "metadata": {
        "colab": {
          "base_uri": "https://localhost:8080/"
        },
        "id": "k98O8Q3Q8R1B",
        "outputId": "2e399480-6409-4f4e-fd25-08f622526efe"
      },
      "source": [
        "import numpy as np\n",
        "x = [1,1,-1]\n",
        "w = [1,-1,1]\n",
        "xx = [1, 1, -2]\n",
        "\n",
        "def dot(x, w):\n",
        "  sc = 0\n",
        "  for xi, wi in zip(x,w):\n",
        "    sc += xi * wi\n",
        "  return sc\n",
        "\n"
      ],
      "execution_count": null,
      "outputs": [
        {
          "output_type": "stream",
          "name": "stdout",
          "text": [
            "0.9428090415820635\n",
            "-0.33333333333333337\n",
            "-0.47140452079103173\n",
            "1.0\n",
            "1.0\n",
            "1.0\n",
            "[0.5773502691896258, 0.5773502691896258, -0.5773502691896258]\n",
            "[0.5773502691896258, -0.5773502691896258, 0.5773502691896258]\n",
            "[0.4082482904638631, 0.4082482904638631, -0.8164965809277261]\n"
          ]
        }
      ]
    },
    {
      "cell_type": "code",
      "metadata": {
        "colab": {
          "base_uri": "https://localhost:8080/"
        },
        "id": "T83dh1aMDi2u",
        "outputId": "ec043185-0d10-472d-e18c-8ed49016c72f"
      },
      "source": [],
      "execution_count": null,
      "outputs": [
        {
          "output_type": "stream",
          "name": "stdout",
          "text": [
            "1\n",
            "1\n",
            "0\n",
            "0\n"
          ]
        }
      ]
    },
    {
      "cell_type": "code",
      "metadata": {
        "id": "0RrnTC1VGtJZ"
      },
      "source": [
        "# a = 0.3 b = 0.1 c = 1\n",
        "punct = [x, y]\n",
        "# sa determinati daca punctul se afla la stanga, pe dreapta sau la dreapta dreptei?\n",
        "#  ax + by + c = 0\n",
        "weights = [a, b]\n",
        "bias = c\n"
      ],
      "execution_count": null,
      "outputs": []
    },
    {
      "cell_type": "markdown",
      "metadata": {
        "id": "msnnAWArOncG"
      },
      "source": [
        "# Evaluating an AI\n",
        "I. Se dau următoarele etichete prezise de un clasificator binar, `y_pred = [1, 1, 1, 0, 1, 0, 1, 1, 0, 0]` și etichetele `y_true = [1, 0, 1, 0, 1, 0, 1, 0, 1, 0]`.\n",
        "1. Definiti metoda `accuracy_score(y_true, y_pred)` care sa calculeze acuratetea clasificatorului binar.\n",
        "2. Definiti metoda `precision_recall_score(y_true, y_pred)` care returneaza\n",
        "precizia si recall-ul clasificatorului binar.\n",
        "\n",
        "Urmariti mai multe detalii aici: https://en.wikipedia.org/wiki/Precision_and_recall#Definition_(classification_context)\n",
        "\n",
        "II. Un algoritm de inteligență artificială prezice prețurile apartamentelor de 2 camere pentru 10 ani:\n",
        "`y_pred = [45, 48, 53, 56, 54, 55, 58, 60, 63, 66]`. Prețurile reale au fost `y_true = [45, 45, 43, 41, 55, 58, 58, 58, 60, 59]`.\n",
        "1. Definiti metoda `mse(y_true, y_pred)` (mean square error) care calculeaza media patratelor erorilor de clasificare.\n",
        "2. Definiti metoda `mae(y_true, y_pred)` (mean absolute error) care calculeaza media erorii absolute de clasificare.\n",
        "\n",
        "Mai multe detalii aici: https://en.wikipedia.org/wiki/Mean_squared_error#Predictor \n",
        "si aici: https://en.wikipedia.org/wiki/Mean_absolute_error \n"
      ]
    },
    {
      "cell_type": "code",
      "metadata": {
        "id": "gR5jZB9HMe4D"
      },
      "source": [
        "# paranteza \n",
        "######\n",
        "\n",
        "X = np.array([[1, 1, 1], [1,-1, 0], [0, 1, 0], [0, 0, 1]])\n",
        "\n",
        "from copy import copy, deepcopy\n",
        "\n",
        "def f(tt):\n",
        "  #tt = np.copy(tt)\n",
        "  tt[0, 0] = 10\n",
        "\n",
        "\n",
        "print(X)\n",
        "f(X)\n",
        "print(X)\n",
        "######"
      ],
      "execution_count": null,
      "outputs": []
    },
    {
      "cell_type": "code",
      "metadata": {
        "colab": {
          "base_uri": "https://localhost:8080/"
        },
        "id": "n3mJdiu6IRt-",
        "outputId": "903910e6-5bef-4867-a377-81f31a4a4e70"
      },
      "source": [
        "# paranteza despre axis\n",
        "X = np.array([[1, 1, 1], [1,-1, 0], [0, 1, 0], [0, 0, 1]])\n",
        "print(X)\n",
        "#print(X.T)\n",
        "print(X.shape)\n",
        "print(X.sum(axis=0))\n",
        "\n",
        "for i in range(0, X.shape[0]):\n",
        "  print(X[i])\n",
        "print('#####')\n",
        "\n",
        "# height, width\n",
        "matrice_3_dim = np.array([X, X+10, X+20])\n",
        "\n",
        "print(matrice_3_dim)\n",
        "print(matrice_3_dim.shape)\n",
        "print(matrice_3_dim.sum(axis=1))\n",
        "\n"
      ],
      "execution_count": null,
      "outputs": [
        {
          "output_type": "stream",
          "name": "stdout",
          "text": [
            "[[ 1  1  1]\n",
            " [ 1 -1  0]\n",
            " [ 0  1  0]\n",
            " [ 0  0  1]]\n",
            "(4, 3)\n",
            "[2 1 2]\n",
            "[1 1 1]\n",
            "[ 1 -1  0]\n",
            "[0 1 0]\n",
            "[0 0 1]\n",
            "#####\n",
            "[[[ 1  1  1]\n",
            "  [ 1 -1  0]\n",
            "  [ 0  1  0]\n",
            "  [ 0  0  1]]\n",
            "\n",
            " [[11 11 11]\n",
            "  [11  9 10]\n",
            "  [10 11 10]\n",
            "  [10 10 11]]\n",
            "\n",
            " [[21 21 21]\n",
            "  [21 19 20]\n",
            "  [20 21 20]\n",
            "  [20 20 21]]]\n",
            "(3, 4, 3)\n",
            "[[ 2  1  2]\n",
            " [42 41 42]\n",
            " [82 81 82]]\n"
          ]
        }
      ]
    },
    {
      "cell_type": "code",
      "metadata": {
        "id": "msUwK2EEK4GS"
      },
      "source": [
        "# next: evaluation metrics, more about numpy arrays, shapes, and axis"
      ],
      "execution_count": null,
      "outputs": []
    },
    {
      "cell_type": "code",
      "metadata": {
        "colab": {
          "base_uri": "https://localhost:8080/"
        },
        "id": "5KCA2Qv6ROAE",
        "outputId": "f18d4f1f-6386-4e2b-9837-f78f7a806dc3"
      },
      "source": [
        "# y un numar care codifica / reprezinta etichetele coresp. unor reprezentari vectoriale\n",
        "# valorile reale luate din setul complet de date ->\n",
        "y_true = [1, 0, 1, 0, 1, 0, 1, 0, 1, 0]\n",
        "# valorile prezise de catre AI in urma antrenarii ->\n",
        "y_pred = [1, 1, 1, 1, 1, 1, 1, 1, 1, 1]\n",
        "\n",
        "print(accuracy_score(y_true, y_pred))\n",
        "\n",
        "\n",
        "\n"
      ],
      "execution_count": null,
      "outputs": [
        {
          "output_type": "stream",
          "name": "stdout",
          "text": [
            "70.0\n",
            "80.0\n"
          ]
        }
      ]
    },
    {
      "cell_type": "code",
      "metadata": {
        "colab": {
          "base_uri": "https://localhost:8080/"
        },
        "id": "NPDoIvSoYsxq",
        "outputId": "ba7600a9-b14e-4e1e-a156-13c25738f468"
      },
      "source": [
        "help(accuracy_score)"
      ],
      "execution_count": null,
      "outputs": [
        {
          "output_type": "stream",
          "name": "stdout",
          "text": [
            "Help on function accuracy_score in module __main__:\n",
            "\n",
            "accuracy_score(y_true, y_pred)\n",
            "    Acuratete folosind numpy, e mai eficient \n",
            "    si mai scurt.\n",
            "\n"
          ]
        }
      ]
    },
    {
      "cell_type": "code",
      "metadata": {
        "colab": {
          "base_uri": "https://localhost:8080/"
        },
        "id": "u_sAnCLRY5yw",
        "outputId": "0ff63c3a-db90-4848-b878-d079d7a977db"
      },
      "source": [
        "help(np.where)"
      ],
      "execution_count": null,
      "outputs": [
        {
          "output_type": "stream",
          "name": "stdout",
          "text": [
            "Help on function where in module numpy:\n",
            "\n",
            "where(...)\n",
            "    where(condition, [x, y])\n",
            "    \n",
            "    Return elements chosen from `x` or `y` depending on `condition`.\n",
            "    \n",
            "    .. note::\n",
            "        When only `condition` is provided, this function is a shorthand for\n",
            "        ``np.asarray(condition).nonzero()``. Using `nonzero` directly should be\n",
            "        preferred, as it behaves correctly for subclasses. The rest of this\n",
            "        documentation covers only the case where all three arguments are\n",
            "        provided.\n",
            "    \n",
            "    Parameters\n",
            "    ----------\n",
            "    condition : array_like, bool\n",
            "        Where True, yield `x`, otherwise yield `y`.\n",
            "    x, y : array_like\n",
            "        Values from which to choose. `x`, `y` and `condition` need to be\n",
            "        broadcastable to some shape.\n",
            "    \n",
            "    Returns\n",
            "    -------\n",
            "    out : ndarray\n",
            "        An array with elements from `x` where `condition` is True, and elements\n",
            "        from `y` elsewhere.\n",
            "    \n",
            "    See Also\n",
            "    --------\n",
            "    choose\n",
            "    nonzero : The function that is called when x and y are omitted\n",
            "    \n",
            "    Notes\n",
            "    -----\n",
            "    If all the arrays are 1-D, `where` is equivalent to::\n",
            "    \n",
            "        [xv if c else yv\n",
            "         for c, xv, yv in zip(condition, x, y)]\n",
            "    \n",
            "    Examples\n",
            "    --------\n",
            "    >>> a = np.arange(10)\n",
            "    >>> a\n",
            "    array([0, 1, 2, 3, 4, 5, 6, 7, 8, 9])\n",
            "    >>> np.where(a < 5, a, 10*a)\n",
            "    array([ 0,  1,  2,  3,  4, 50, 60, 70, 80, 90])\n",
            "    \n",
            "    This can be used on multidimensional arrays too:\n",
            "    \n",
            "    >>> np.where([[True, False], [True, True]],\n",
            "    ...          [[1, 2], [3, 4]],\n",
            "    ...          [[9, 8], [7, 6]])\n",
            "    array([[1, 8],\n",
            "           [3, 4]])\n",
            "    \n",
            "    The shapes of x, y, and the condition are broadcast together:\n",
            "    \n",
            "    >>> x, y = np.ogrid[:3, :4]\n",
            "    >>> np.where(x < y, x, 10 + y)  # both x and 10+y are broadcast\n",
            "    array([[10,  0,  0,  0],\n",
            "           [10, 11,  1,  1],\n",
            "           [10, 11, 12,  2]])\n",
            "    \n",
            "    >>> a = np.array([[0, 1, 2],\n",
            "    ...               [0, 2, 4],\n",
            "    ...               [0, 3, 6]])\n",
            "    >>> np.where(a < 4, a, -1)  # -1 is broadcast\n",
            "    array([[ 0,  1,  2],\n",
            "           [ 0,  2, -1],\n",
            "           [ 0,  3, -1]])\n",
            "\n"
          ]
        }
      ]
    },
    {
      "cell_type": "code",
      "metadata": {
        "colab": {
          "base_uri": "https://localhost:8080/"
        },
        "id": "xdJrRdjkBgSz",
        "outputId": "4e32526f-762b-46c3-e2ad-4a4a128ac363"
      },
      "source": [
        "import numpy as np\n",
        "y = np.array([0.5, 0.7, 0.1, 0.2, 0.6, 0.7, 0.9, 0.4, 0.8, 0.01])\n",
        "rez = (y >= 0.5).astype(int)\n",
        "y_true = [1, 0, 1, 0, 1, 0, 1, 0, 1, 0]\n",
        "print(accuracy_score(y_true, rez))\n",
        "\n",
        "indici = np.where(y >= 0.5)[0]\n",
        "y[indici]"
      ],
      "execution_count": null,
      "outputs": [
        {
          "output_type": "stream",
          "name": "stdout",
          "text": [
            "70.0\n"
          ]
        },
        {
          "output_type": "execute_result",
          "data": {
            "text/plain": [
              "array([0.5, 0.7, 0.6, 0.7, 0.9, 0.8])"
            ]
          },
          "metadata": {},
          "execution_count": 28
        }
      ]
    },
    {
      "cell_type": "code",
      "metadata": {
        "colab": {
          "base_uri": "https://localhost:8080/"
        },
        "id": "ciSe-GM0Z5SH",
        "outputId": "69c7f01e-1e15-4403-9660-2a981b4c7485"
      },
      "source": [
        "# valorile reale luate din setul complet de date ->\n",
        "y_true = [1, 0, 1, 0, 1, 0, 1, 0, 1, 0]\n",
        "# valorile prezise de catre AI in urma antrenarii ->\n",
        "y_pred = [1, 1, 1, 0, 1, 0, 1, 1, 0, 0]\n",
        "\n",
        "\n",
        "y_pred = np.array(y_pred)\n",
        "y_true = np.array(y_true)\n",
        "\n",
        "\n",
        "def f_score(y_true, y_pred, beta=1):\n",
        "  '''implementeze functia  de aici \n",
        "  https://en.wikipedia.org/wiki/F-score\n",
        "  '''\n",
        "  return f_beta_score\n",
        "\n",
        "#print(f_score(y_true, y_pred))\n",
        "\n",
        "\n",
        "\n"
      ],
      "execution_count": null,
      "outputs": [
        {
          "output_type": "stream",
          "name": "stdout",
          "text": [
            "(4, 2, 3, 1)\n",
            "0.6666666666666666\n",
            "0.8\n",
            "0.5\n",
            "1.0\n"
          ]
        }
      ]
    },
    {
      "cell_type": "code",
      "metadata": {
        "colab": {
          "base_uri": "https://localhost:8080/"
        },
        "id": "QzwftyEeOBAa",
        "outputId": "7ef8c940-6e53-4562-e9fb-231fd2ee3cc4"
      },
      "source": [],
      "execution_count": null,
      "outputs": [
        {
          "output_type": "stream",
          "name": "stdout",
          "text": [
            "6.371812928829597\n",
            "4.4\n"
          ]
        }
      ]
    }
  ]
}