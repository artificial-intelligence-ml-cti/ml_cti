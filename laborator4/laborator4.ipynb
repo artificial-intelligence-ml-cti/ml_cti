{
  "nbformat": 4,
  "nbformat_minor": 0,
  "metadata": {
    "colab": {
      "name": "Laborator_4.ipynb",
      "provenance": [],
      "collapsed_sections": []
    },
    "kernelspec": {
      "name": "python3",
      "display_name": "Python 3"
    },
    "language_info": {
      "name": "python"
    }
  },
  "cells": [
    {
      "cell_type": "markdown",
      "metadata": {
        "id": "P__Db8icaB41"
      },
      "source": [
        "# Importuri necesare"
      ]
    },
    {
      "cell_type": "code",
      "metadata": {
        "id": "o_XpJRpOTAtf"
      },
      "source": [
        "import os\n",
        "import numpy as np\n",
        "import matplotlib.pyplot as plt"
      ],
      "execution_count": 7,
      "outputs": []
    },
    {
      "cell_type": "markdown",
      "metadata": {
        "id": "N9o3ZAEraG0e"
      },
      "source": [
        "# Descarcare / citire date"
      ]
    },
    {
      "cell_type": "code",
      "metadata": {
        "colab": {
          "base_uri": "https://localhost:8080/"
        },
        "id": "_fikIu38y2Pr",
        "outputId": "197f519f-088c-4629-85ee-2b9f1082be52"
      },
      "source": [
        "! rm -rf data*\n",
        "! wget https://github.com/artificial-intelligence-ml-cti/ml_cti/raw/main/laborator3/data.zip\n",
        "! unzip \"data.zip\"\n",
        "\n",
        "! echo \"***\\n Fisierele sunt: \"\n",
        "! ls data/\n",
        "! echo \"****\\n Calea catre directorul cu date este: \"\n",
        "! readlink -f data/\n"
      ],
      "execution_count": 4,
      "outputs": [
        {
          "output_type": "stream",
          "name": "stdout",
          "text": [
            "--2021-11-02 09:15:15--  https://github.com/artificial-intelligence-ml-cti/ml_cti/raw/main/laborator3/data.zip\n",
            "Resolving github.com (github.com)... 140.82.113.3\n",
            "Connecting to github.com (github.com)|140.82.113.3|:443... connected.\n",
            "HTTP request sent, awaiting response... 302 Found\n",
            "Location: https://raw.githubusercontent.com/artificial-intelligence-ml-cti/ml_cti/main/laborator3/data.zip [following]\n",
            "--2021-11-02 09:15:15--  https://raw.githubusercontent.com/artificial-intelligence-ml-cti/ml_cti/main/laborator3/data.zip\n",
            "Resolving raw.githubusercontent.com (raw.githubusercontent.com)... 185.199.108.133, 185.199.109.133, 185.199.110.133, ...\n",
            "Connecting to raw.githubusercontent.com (raw.githubusercontent.com)|185.199.108.133|:443... connected.\n",
            "HTTP request sent, awaiting response... 200 OK\n",
            "Length: 629644 (615K) [application/zip]\n",
            "Saving to: ‘data.zip’\n",
            "\n",
            "data.zip            100%[===================>] 614.89K  --.-KB/s    in 0.007s  \n",
            "\n",
            "2021-11-02 09:15:16 (82.2 MB/s) - ‘data.zip’ saved [629644/629644]\n",
            "\n",
            "Archive:  data.zip\n",
            "  inflating: data/test_images.txt    \n",
            "  inflating: data/test_labels.txt    \n",
            "  inflating: data/train_images.txt   \n",
            "  inflating: data/train_labels.txt   \n",
            "***\\n Fisierele sunt: \n",
            "test_images.txt  test_labels.txt  train_images.txt  train_labels.txt\n",
            "****\\n Calea catre directorul cu date este: \n",
            "/content/data\n"
          ]
        }
      ]
    },
    {
      "cell_type": "markdown",
      "metadata": {
        "id": "RLVbkkLUaMNp"
      },
      "source": [
        "Director date"
      ]
    },
    {
      "cell_type": "code",
      "metadata": {
        "id": "_I16vNNHaLH4"
      },
      "source": [
        "data_path = \"/content/data\""
      ],
      "execution_count": 5,
      "outputs": []
    },
    {
      "cell_type": "markdown",
      "metadata": {
        "id": "a3fTgW5naUFc"
      },
      "source": [
        "Citire date si etichete train"
      ]
    },
    {
      "cell_type": "code",
      "metadata": {
        "id": "e9LXisWcU0Vr"
      },
      "source": [
        "# variabile pentru calea catre fisier\n",
        "train_path = os.path.join(data_path, \"train_images.txt\")\n",
        "tr_labels_path = os.path.join(data_path, \"train_labels.txt\")\n",
        "test_path = os.path.join(data_path, \"test_images.txt\")\n",
        "ts_labels_path = os.path.join(data_path, \"test_labels.txt\")\n",
        "\n",
        "# variabile cu fisierele incarcate\n",
        "train_images = np.loadtxt(train_path, 'uint8')\n",
        "train_labels = np.loadtxt(tr_labels_path, 'int8')\n",
        "test_images = np.loadtxt(test_path, 'uint8')\n",
        "test_labels = np.loadtxt(ts_labels_path, 'int8')"
      ],
      "execution_count": 8,
      "outputs": []
    },
    {
      "cell_type": "code",
      "metadata": {
        "colab": {
          "base_uri": "https://localhost:8080/",
          "height": 265
        },
        "id": "-ClRHlP9VBNh",
        "outputId": "af684db4-655b-41ba-9ea2-c58bcc1aef4d"
      },
      "source": [
        "image = train_images[0,:]\n",
        "image = np.reshape(image,(28,28))\n",
        "plt.imshow(image,cmap = \"gray\")\n",
        "plt.show()"
      ],
      "execution_count": 33,
      "outputs": [
        {
          "output_type": "display_data",
          "data": {
            "image/png": "[encoded data removed]",
            "text/plain": [
              "<Figure size 432x288 with 1 Axes>"
            ]
          },
          "metadata": {
            "needs_background": "light"
          }
        }
      ]
    },
    {
      "cell_type": "markdown",
      "metadata": {
        "id": "956iK0qVabd4"
      },
      "source": [
        "# Probabilitatile apriori\n",
        "Calculul probabilitatilor apriori $P(c=i)$, `i = 0,...,9` din datele de antrenare. Pentru fiecare clasă probabilitatea este dată de o distribuție discretă - numărul de apariții ale acelei clase din numărul total de clase."
      ]
    },
    {
      "cell_type": "code",
      "metadata": {
        "colab": {
          "base_uri": "https://localhost:8080/"
        },
        "id": "4QeN0osOVPKo",
        "outputId": "63d36aa0-9fe5-430d-e785-d8874f1e62f9"
      },
      "source": [
        "p_C = np.zeros(10, 'uint8')\n",
        "for eticheta in train_labels:\n",
        "  p_C[eticheta] += 1\n",
        "# numaratori:\n",
        "print(p_C)\n",
        "print(np.bincount(train_labels))\n",
        "\n",
        "# probabilitati:\n",
        "p_C = p_C / np.sum(p_C)"
      ],
      "execution_count": 11,
      "outputs": [
        {
          "output_type": "stream",
          "name": "stdout",
          "text": [
            "[ 91 120  96  99 105  83  98 104 101 103]\n",
            "[ 91 120  96  99 105  83  98 104 101 103]\n"
          ]
        },
        {
          "output_type": "execute_result",
          "data": {
            "text/plain": [
              "array([0.091, 0.12 , 0.096, 0.099, 0.105, 0.083, 0.098, 0.104, 0.101,\n",
              "       0.103])"
            ]
          },
          "metadata": {},
          "execution_count": 11
        }
      ]
    },
    {
      "cell_type": "markdown",
      "metadata": {
        "id": "9UCq5JcxE1_c"
      },
      "source": [
        "# Histograma\n",
        "Cum sa facem o histograma (adica o numarare) in functie de niste intervale date.\n",
        "1. Facem intervalele `[0, 64, 128]`, in cazul asta sunt 2 `[0-64)` si `[64 - 128)`\n",
        "2. Apelam `np.histogram(numere, intervale)` care va numara cate numere sunt in fiecare interval"
      ]
    },
    {
      "cell_type": "code",
      "metadata": {
        "colab": {
          "base_uri": "https://localhost:8080/"
        },
        "id": "SNEgfA--VZZF",
        "outputId": "2402b349-0643-4741-cf5c-43cebfedc05a"
      },
      "source": [
        "date_exemplu = np.array([0, 63, 63, 64, 65, 128, 255, 15, 254, 89, 192])\n",
        "numar_intervale = 4\n",
        "# linspace e o functie din numpy, in cazul in care ne e lene sa le facem de mana\n",
        "limite_interval = np.linspace(0, 256, numar_intervale + 1)\n",
        "print(limite_interval)\n",
        "\n",
        "# de mana:\n",
        "limite_interval = [0, 64, 128, 192, 256]\n",
        "print(limite_interval)\n",
        "\n",
        "histograma, _ = np.histogram(date_exemplu, limite_interval)\n",
        "print(histograma)"
      ],
      "execution_count": 15,
      "outputs": [
        {
          "output_type": "stream",
          "name": "stdout",
          "text": [
            "[  0.  64. 128. 192. 256.]\n",
            "[4 3 1 3]\n"
          ]
        }
      ]
    },
    {
      "cell_type": "code",
      "metadata": {
        "colab": {
          "base_uri": "https://localhost:8080/"
        },
        "id": "19lSfiu-_THF",
        "outputId": "550bcf4c-5dac-4ee0-c201-49d3ee21696e"
      },
      "source": [
        "histograma, _ = np.histogram(train_images[0, :], limite_interval)\n",
        "print(histograma)"
      ],
      "execution_count": 16,
      "outputs": [
        {
          "output_type": "stream",
          "name": "stdout",
          "text": [
            "[589  12  24 159]\n"
          ]
        }
      ]
    },
    {
      "cell_type": "markdown",
      "metadata": {
        "id": "XYGlRXp9apeO"
      },
      "source": [
        "# Exemplu de calcul pentru probabilitatea valorii unui pixel constrans de o clasa data\n",
        "Calculul $P(X_j = x_j | c=i)$ pentru clasa `i = 4`, pixelul `j = 370`"
      ]
    },
    {
      "cell_type": "code",
      "metadata": {
        "colab": {
          "base_uri": "https://localhost:8080/"
        },
        "id": "Z0HbLFGBVi25",
        "outputId": "bd906df8-6939-4fa1-c721-fc450ed1542f"
      },
      "source": [
        "clasa = 4\n",
        "pozitie_pixel = 370\n",
        "\n",
        "indecsii_coresp_clasei = np.where( train_labels == clasa )[0]\n",
        "print(indecsii_coresp_clasei)\n",
        "\n",
        "imaginile_coresp_clasei = train_images[indecsii_coresp_clasei, :]"
      ],
      "execution_count": 31,
      "outputs": [
        {
          "output_type": "stream",
          "name": "stdout",
          "text": [
            "[  0   5   8  20  21  27  31  89  96 103 109 111 127 144 153 155 160 172\n",
            " 177 181 184 193 202 211 214 240 245 267 308 312 339 348 352 356 359 391\n",
            " 393 423 430 436 455 457 480 484 496 504 505 512 516 521 525 526 527 538\n",
            " 540 546 561 562 572 583 586 606 617 628 630 635 642 650 669 676 678 682\n",
            " 687 705 707 740 744 745 758 767 785 791 792 823 841 849 865 870 873 876\n",
            " 884 886 888 894 896 911 913 928 940 962 965 966 978 989 991]\n"
          ]
        }
      ]
    },
    {
      "cell_type": "code",
      "metadata": {
        "colab": {
          "base_uri": "https://localhost:8080/"
        },
        "id": "48DUnHxqAD3s",
        "outputId": "eb534bb0-7d54-4a08-863f-76d081ad0208"
      },
      "source": [
        "# la o prima vedere, valorile astea nu spun nimic\n",
        "print(imaginile_coresp_clasei[:, pozitie_pixel])\n",
        "# dar incercati sa schimbati clasa sa vedeti ce valori au \n",
        "# piexlii de aceeasi pozitie in functie de clasa\n",
        "# ochiometric observati cam in ce intervale se gasesc"
      ],
      "execution_count": 29,
      "outputs": [
        {
          "output_type": "stream",
          "name": "stdout",
          "text": [
            "[  0   0   0   0 223   0   0   0   0   0   0   0   0   0   0   0   0   0\n",
            " 157   0   0   0   0   0   0   0   0   0   0   0   0   0   0   0   0   0\n",
            "   0   0   0   0   4   0   0   0   0   0   0   0   0   0   0   0   0   0\n",
            "   0   0   0   0   0   0   0   0   0   0   0   0   0   0   0   0   0   0\n",
            "   0   0   0   0   0   0   0   0   0   0   0   0   0   0   0   0   0   0\n",
            "   0 107   0   0   0   0   0   0   0]\n"
          ]
        }
      ]
    },
    {
      "cell_type": "code",
      "metadata": {
        "colab": {
          "base_uri": "https://localhost:8080/"
        },
        "id": "DxG_qZlYAu6b",
        "outputId": "f1262162-bf1d-4bc8-afef-ab68b637f246"
      },
      "source": [
        "limite_interval = [0, 64, 128, 192, 256]\n",
        "print(limite_interval)\n",
        "histograma, _ = np.histogram(imaginile_coresp_clasei[:, pozitie_pixel], limite_interval)\n",
        "print(histograma)\n",
        "\n",
        "probabilitati_pe_interval = histograma / np.sum(histograma)\n",
        "\n",
        "print(probabilitati_pe_interval)\n",
        "\n"
      ],
      "execution_count": 30,
      "outputs": [
        {
          "output_type": "stream",
          "name": "stdout",
          "text": [
            "[0, 64, 128, 192, 256]\n",
            "[96  1  1  1]\n",
            "[0.96969697 0.01010101 0.01010101 0.01010101]\n"
          ]
        }
      ]
    },
    {
      "cell_type": "code",
      "metadata": {
        "id": "4Mq6KX9tVrDE"
      },
      "source": [
        "# probabilitatea ca pixelul de pe pozitia 370 sa aiba valoarea 15, constrans de clasa 4 \n",
        "# este valoarea din probabilitati_pe_interval coresp intervalului unde se gaseste 15 (adica 0-64)\n"
      ],
      "execution_count": 32,
      "outputs": []
    },
    {
      "cell_type": "code",
      "metadata": {
        "id": "dch-JocDCd8k"
      },
      "source": [
        "def probab_pixel(o_valoare_pixel, pozitie_pixel, clasa, train_images, train_labels):\n",
        "  indecsii_coresp_clasei = np.where( train_labels == clasa )[0]\n",
        "  imaginile_coresp_clasei = train_images[indecsii_coresp_clasei, :]\n",
        "  pixelii_corespunzatori_pozitiei_si_clasei = imaginile_coresp_clasei[:, pozitie_pixel]\n",
        "  \n",
        "  limite_interval = [0, 64, 128, 192, 256]\n",
        "  histograma, _ = np.histogram(pixelii_corespunzatori_pozitiei_si_clasei, limite_interval)\n",
        "  probabilitati_pe_interval = histograma / np.sum(histograma)\n",
        "\n",
        "  # o_valoare_pixel in ce interval pica?\n",
        "  # vezi https://numpy.org/doc/stable/reference/generated/numpy.digitize.html\n",
        "  # data viitoare continuam de aici...\n",
        "  # cum se poate optimiza aceasta functie?\n",
        "\n",
        "\n",
        "\n"
      ],
      "execution_count": null,
      "outputs": []
    }
  ]
}