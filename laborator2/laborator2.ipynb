{
  "nbformat": 4,
  "nbformat_minor": 0,
  "metadata": {
    "colab": {
      "name": "laborator2.ipynb",
      "provenance": [],
      "collapsed_sections": [
        "RBtRMbAheqYu",
        "tiF8eyzgkLi4",
        "h_xXfExcl-6B"
      ]
    },
    "kernelspec": {
      "name": "python3",
      "display_name": "Python 3"
    },
    "language_info": {
      "name": "python"
    }
  },
  "cells": [
    {
      "cell_type": "markdown",
      "metadata": {
        "id": "6GLeSvSHeRSI"
      },
      "source": [
        "# Utilizarea bibliotecilor numpy si matplotlib"
      ]
    },
    {
      "cell_type": "code",
      "metadata": {
        "id": "GQurJJqLdndx"
      },
      "source": [
        "! pip install numpy matplotlib"
      ],
      "execution_count": null,
      "outputs": []
    },
    {
      "cell_type": "markdown",
      "metadata": {
        "id": "RBtRMbAheqYu"
      },
      "source": [
        "# Numpy"
      ]
    },
    {
      "cell_type": "code",
      "metadata": {
        "id": "eOP9Auz5ehkc"
      },
      "source": [
        "import numpy as np"
      ],
      "execution_count": null,
      "outputs": []
    },
    {
      "cell_type": "markdown",
      "metadata": {
        "id": "H6Gc7Xq5fJny"
      },
      "source": [
        "## Creare np.arrays"
      ]
    },
    {
      "cell_type": "markdown",
      "metadata": {
        "id": "WhaRNUNOecAx"
      },
      "source": [
        "### Initializați folosind o listă din Python"
      ]
    },
    {
      "cell_type": "code",
      "metadata": {
        "id": "ffjsD2QueX3v"
      },
      "source": [
        "a = np.array([1, 2, 3])\n",
        "print(a)\n",
        "# => [1 2 3]\n",
        "\n",
        "print(type(a))\n",
        "# tipul obiectului a => <class 'numpy.ndarray'>\n",
        "\n",
        "print(a.dtype)\n",
        "# tipul elementelor din a => int32\n",
        "\n",
        "print(a.shape)\n",
        "# tuple continand lungimea lui a pe fiecare dimensiune => (3,)\n",
        "\n",
        "print(a[0])\n",
        "# acceseaza elementul avand indexul 0 => 1\n",
        "\n",
        "b = np.array([[1, 2, 3], [4, 5, 6]])\n",
        "print(b.shape)\n",
        "# => (2, 3)\n",
        "\n",
        "print(b[0][2])\n",
        "# => 3\n",
        "\n",
        "print(b[0, 2])\n",
        "# => 3\n",
        "\n",
        "c = np.asarray([[1, 2], [3, 4]])\n",
        "print(type(c))\n",
        "# => <class 'numpy.ndarray'>\n",
        "\n",
        "print(c.shape)\n",
        "# => (2, 2)"
      ],
      "execution_count": null,
      "outputs": []
    },
    {
      "cell_type": "markdown",
      "metadata": {
        "id": "pYbUJEnLemWM"
      },
      "source": [
        "### Creați folosind funcții din numpy"
      ]
    },
    {
      "cell_type": "code",
      "metadata": {
        "id": "vgd4UMnwejww"
      },
      "source": [
        "zero_array = np.zeros((3, 2))\n",
        "print(zero_array)"
      ],
      "execution_count": null,
      "outputs": []
    },
    {
      "cell_type": "code",
      "metadata": {
        "id": "D0bA0_UBeyZ7"
      },
      "source": [
        "ones_array = np.ones((2, 2))\n",
        "print(ones_array)"
      ],
      "execution_count": null,
      "outputs": []
    },
    {
      "cell_type": "code",
      "metadata": {
        "id": "VAfdKqrqezdo"
      },
      "source": [
        "constant_array = np.full((2, 2), 8)\n",
        "print(constant_array)"
      ],
      "execution_count": null,
      "outputs": []
    },
    {
      "cell_type": "code",
      "metadata": {
        "id": "vWeG_9Wqe0ry"
      },
      "source": [
        "identity_matrix = np.eye(3)\n",
        "print(identity_matrix)"
      ],
      "execution_count": null,
      "outputs": []
    },
    {
      "cell_type": "code",
      "metadata": {
        "id": "-rn57Z_Xe6Sv"
      },
      "source": [
        "random_array = np.random.random((1,2))\n",
        "print(random_array)"
      ],
      "execution_count": null,
      "outputs": []
    },
    {
      "cell_type": "code",
      "metadata": {
        "id": "pfQUUXDDe6-h"
      },
      "source": [
        "mu, sigma = 0, 0.1\n",
        "gaussian_random = np.random.normal(mu, sigma, (3,6))\n",
        "# https://en.wikipedia.org/wiki/Normal_distribution\n",
        "print(gaussian_random)"
      ],
      "execution_count": null,
      "outputs": []
    },
    {
      "cell_type": "code",
      "metadata": {
        "id": "i0-0gvTzfBDF"
      },
      "source": [
        "first_5 = np.arange(5)\n",
        "print(first_5)"
      ],
      "execution_count": null,
      "outputs": []
    },
    {
      "cell_type": "markdown",
      "metadata": {
        "id": "B7e3r4mte1mE"
      },
      "source": [
        "## Indexare"
      ]
    },
    {
      "cell_type": "markdown",
      "metadata": {
        "id": "4PnWcdO7fene"
      },
      "source": [
        "### Slicing: extragerea unei submulțimi - trebuie specificați indecșii doriți pe fiecare dimensiune "
      ]
    },
    {
      "cell_type": "code",
      "metadata": {
        "id": "rfUwj61sfab9"
      },
      "source": [
        "array_to_slice = np.array([[1,2,3,4], [5,6,7,8], [9,10,11,12]])\n",
        "print(array_to_slice)\n",
        "slice = array_to_slice[:, 0:3]\n",
        "# luam toate liniile si coloanele 0, 1, 2\n",
        "print(slice)\n",
        "\n",
        "#!!!!! slice-ul returneaza o parte din array la aceeasi adresa de memorie\n",
        "slice[0][0] = 100\n",
        "print(array_to_slice)\n",
        "\n",
        "slice_copy = np.copy(array_to_slice[:, 0:3])\n",
        "slice_copy[0][0] = 10000\n",
        "print(slice_copy)\n",
        "print(array_to_slice)"
      ],
      "execution_count": null,
      "outputs": []
    },
    {
      "cell_type": "code",
      "metadata": {
        "id": "moByfLCggJwB"
      },
      "source": [
        "# la apelul unei functii un array se poate modifica accidental\\\n",
        "# daca nu se face copie\n",
        "def f(ar):\n",
        "  ar[0] = 0\n",
        "  ar += 10\n",
        "\n",
        "x = np.ones(10)\n",
        "print(x)\n",
        "f(x)\n",
        "print(x)"
      ],
      "execution_count": null,
      "outputs": []
    },
    {
      "cell_type": "markdown",
      "metadata": {
        "id": "Pe3Eo3orgzf3"
      },
      "source": [
        "În cazul în care unul din indecși este un întreg, dimensiunea\n",
        "submulțimii returnate este mai mică decât dimensiunea inițială:"
      ]
    },
    {
      "cell_type": "code",
      "metadata": {
        "id": "DMZj5NYOgxCT"
      },
      "source": [
        "slice_1 = array_to_slice[2:3, :]\n",
        "print(slice_1)"
      ],
      "execution_count": null,
      "outputs": []
    },
    {
      "cell_type": "code",
      "metadata": {
        "id": "1oxpTdbLg44X"
      },
      "source": [
        "slice_2 = array_to_slice[2, :]\n",
        "print(slice_2)"
      ],
      "execution_count": null,
      "outputs": []
    },
    {
      "cell_type": "code",
      "metadata": {
        "id": "QTkHC445g6Lt"
      },
      "source": [
        "slice_1d = np.ravel(slice_1)\n",
        "print(slice_1d)"
      ],
      "execution_count": null,
      "outputs": []
    },
    {
      "cell_type": "code",
      "metadata": {
        "id": "guQfxxD5g7Un"
      },
      "source": [
        "reshaped_array = np.reshape(array_to_slice, (2, 6))\n",
        "print(reshaped_array)"
      ],
      "execution_count": null,
      "outputs": []
    },
    {
      "cell_type": "markdown",
      "metadata": {
        "id": "gTLVwU24hJla"
      },
      "source": [
        "## Indexare folosind vectori de întregi"
      ]
    },
    {
      "cell_type": "code",
      "metadata": {
        "id": "23yQSkerhNyK"
      },
      "source": [
        "array_to_slice = np.array([[1,2,3,4], [5,6,7,8], [9,10,11,12]])\n",
        "print(array_to_slice[[0,0], [1,3]])"
      ],
      "execution_count": null,
      "outputs": []
    },
    {
      "cell_type": "markdown",
      "metadata": {
        "id": "6xB_WWEVhT1x"
      },
      "source": [
        "### Indexare folosind vectori de valori bool:"
      ]
    },
    {
      "cell_type": "code",
      "metadata": {
        "id": "LgzDPyPOhX2x"
      },
      "source": [
        "bool_idx = (array_to_slice > 10)\n",
        "print(bool_idx)\n",
        "print(array_to_slice[bool_idx])\n",
        "# direct pe array\n",
        "print(array_to_slice[array_to_slice > 10])"
      ],
      "execution_count": null,
      "outputs": []
    },
    {
      "cell_type": "markdown",
      "metadata": {
        "id": "Opppwm54hjml"
      },
      "source": [
        "## Funcții matematice\n",
        "Operațiile matematice de bază sunt disponibile atât ca funcții NumPy\n",
        "cât și ca operatori. Acestea sunt aplicate element cu element:"
      ]
    },
    {
      "cell_type": "code",
      "metadata": {
        "id": "jC6SvNGqhm9s"
      },
      "source": [
        "x = np.array([[1,2],[3,4]], dtype=np.float64)\n",
        "y = np.array([[5,6],[7,8]], dtype=np.float64)\n",
        "print(x + y)\n",
        "print(np.add(x, y))"
      ],
      "execution_count": null,
      "outputs": []
    },
    {
      "cell_type": "code",
      "metadata": {
        "id": "l1CDtAl-hs6V"
      },
      "source": [
        "print(x - y)\n",
        "print(np.subtract(x, y))"
      ],
      "execution_count": null,
      "outputs": []
    },
    {
      "cell_type": "code",
      "metadata": {
        "id": "OWmDRhzWhuC4"
      },
      "source": [
        "print(x * y)\n",
        "print(np.multiply(x, y))"
      ],
      "execution_count": null,
      "outputs": []
    },
    {
      "cell_type": "code",
      "metadata": {
        "id": "BXvTU4tfhvcy"
      },
      "source": [
        "print(x / y)\n",
        "print(np.divide(x, y))"
      ],
      "execution_count": null,
      "outputs": []
    },
    {
      "cell_type": "code",
      "metadata": {
        "id": "21u2jFlUhw1t"
      },
      "source": [
        "print(np.sqrt(x))"
      ],
      "execution_count": null,
      "outputs": []
    },
    {
      "cell_type": "code",
      "metadata": {
        "id": "jXODOVDkhyS3"
      },
      "source": [
        "my_array = np.arange(5)\n",
        "powered = np.power(my_array, 3)\n",
        "print(powered)"
      ],
      "execution_count": null,
      "outputs": []
    },
    {
      "cell_type": "markdown",
      "metadata": {
        "id": "EFXEElwBh3xN"
      },
      "source": [
        "### Produs scalar"
      ]
    },
    {
      "cell_type": "code",
      "metadata": {
        "id": "KzSPCd4Ch2xR"
      },
      "source": [
        "x = np.array([[1, 2],[3, 4]])\n",
        "y = np.array([[5, 6],[7, 8]])\n",
        "\n",
        "v = np.array([9, 10])\n",
        "w = np.array([11, 12])\n",
        "\n",
        "print(v.dot(w))\n",
        "print(np.dot(v, w))\n",
        "\n",
        "print(np.matmul(x, v))\n",
        "print(np.matmul(x, y))"
      ],
      "execution_count": null,
      "outputs": []
    },
    {
      "cell_type": "markdown",
      "metadata": {
        "id": "Cn2iQTRGh_nr"
      },
      "source": [
        "### Operații pe matrici"
      ]
    },
    {
      "cell_type": "code",
      "metadata": {
        "id": "6iIKGtBjh-Yf"
      },
      "source": [
        "my_array = np.array([[1, 2, 3], [4, 5, 6]])\n",
        "print(my_array)\n",
        "# transpose\n",
        "print(my_array.T)"
      ],
      "execution_count": null,
      "outputs": []
    },
    {
      "cell_type": "code",
      "metadata": {
        "id": "IzdNTNKRiFBt"
      },
      "source": [
        "my_array = np.array([[1., 2.], [3., 4.]])\n",
        "print(my_array)\n",
        "# inversa\n",
        "print(np.linalg.inv(my_array))"
      ],
      "execution_count": null,
      "outputs": []
    },
    {
      "cell_type": "markdown",
      "metadata": {
        "id": "xA0u_QZKiOAA"
      },
      "source": [
        "### **Axis** dispune de funcții care realizează operații pe o anumită\n",
        "dimensiune."
      ]
    },
    {
      "cell_type": "code",
      "metadata": {
        "id": "KFnyzeWPiLUx"
      },
      "source": [
        "x = np.array([[1, 2],[3, 4]])\n",
        "# suma pe o anumita dimensiune\n",
        "print(np.sum(x))\n",
        "# Suma tuturor elementelor => 10\n",
        "print(np.sum(x, axis=0))\n",
        "# Suma pe coloane => [4 6]\n",
        "print(np.sum(x, axis=1))\n",
        "# Suma pe linii => [3 7]\n",
        "# putem specifica si mai multe axe pe care sa se faca operatia:\n",
        "print(np.sum(x, axis=(0, 1)))\n",
        "# Suma tuturor elementelor => 10"
      ],
      "execution_count": null,
      "outputs": []
    },
    {
      "cell_type": "code",
      "metadata": {
        "id": "WjY4lue1iYPB"
      },
      "source": [
        "# matrice tridimensionala\n",
        "y = np.array([[[1, 2, 3, 4], [5, 6, 7, 8]], [[1, 2, 3, 4], [5, 6, 7, 8]], [[1, 2, 3,\n",
        "4], [5, 6, 7, 8]]])\n",
        "print(y.shape) # shape e un tuplu cu 3 valori\n",
        "print(y)"
      ],
      "execution_count": null,
      "outputs": []
    },
    {
      "cell_type": "code",
      "metadata": {
        "id": "ZoTM4hpGioVO"
      },
      "source": [
        "print(np.mean(y, axis=0)) # media pe axa 0\n",
        "print(np.mean(y, axis=1)) # media pe axa 1\n",
        "print(np.mean(y, axis=2)) # media pe axa 2"
      ],
      "execution_count": null,
      "outputs": []
    },
    {
      "cell_type": "code",
      "metadata": {
        "id": "QQxFuQXPixEv"
      },
      "source": [
        "# indexul elementului maxim pe fiecare linie\n",
        "z = np.array([[10, 12, 5], [17, 11 ,19]])\n",
        "print(np.argmax(z, axis=1))"
      ],
      "execution_count": null,
      "outputs": []
    },
    {
      "cell_type": "markdown",
      "metadata": {
        "id": "ssanB-UXi1Em"
      },
      "source": [
        "### Broadcasting\n",
        "- mecanism care oferă posibilitatea de a realiza operații aritmetice între\n",
        "vectori de dimensiuni diferite\n",
        "- vectorul mai mic este multipilcat astfel încât să se potrivească cu cel\n",
        "mai mare, operația fiind apoi realizată pe cel din urmă"
      ]
    },
    {
      "cell_type": "markdown",
      "metadata": {
        "id": "Peh5-DYijIYR"
      },
      "source": [
        "[Reguli de broadcasting](https://numpy.org/doc/stable/user/basics.broadcasting.html)\n",
        "\n",
        "Conform documetatiei: when operating on two arrays, NumPy compares their shapes element-wise. It starts with the trailing (i.e. rightmost) dimensions and works its way left. Two dimensions are compatible when either:\n",
        "\n",
        "- they are equal \n",
        "- one of them is 1\n",
        "\n"
      ]
    },
    {
      "cell_type": "code",
      "metadata": {
        "id": "3JdNPAqLiz6a"
      },
      "source": [
        "m = np.array([[1,2,3], [4,5,6], [7,8,9], [10, 11, 12]])\n",
        "v = np.array([1, 0, 1])\n",
        "y = m + v\n",
        "print(y)\n",
        "# m si v se potrivesc pentru ca ultima dimensiune a lui m e egala cu cea a lui v\n",
        "print(m.shape)\n",
        "print(v.shape)\n",
        "print(y.shape)"
      ],
      "execution_count": null,
      "outputs": []
    },
    {
      "cell_type": "markdown",
      "metadata": {
        "id": "tiF8eyzgkLi4"
      },
      "source": [
        "# Matplotlib"
      ]
    },
    {
      "cell_type": "code",
      "metadata": {
        "id": "j-YqNRA_kRyB"
      },
      "source": [
        "import matplotlib.pyplot as plt\n",
        "from matplotlib.pyplot import figure"
      ],
      "execution_count": null,
      "outputs": []
    },
    {
      "cell_type": "markdown",
      "metadata": {
        "id": "No1ggQS3khxg"
      },
      "source": [
        "## Plotare: cea mai importantă funcție este plot, care permite afișarea datelor 2D"
      ]
    },
    {
      "cell_type": "code",
      "metadata": {
        "id": "oFIcRl_pkdj2"
      },
      "source": [
        "x = np.arange(0, 3 * np.pi, 0.1)\n",
        "y = np.sin(x)\n",
        "\n",
        "# instatiem o figure\n",
        "figure(figsize=(8, 6), dpi=80)\n",
        "# Ploteaza punctele\n",
        "plt.plot(x, y)\n",
        "# Adauga etichete pentru fiecare axa\n",
        "plt.xlabel('x axis label')\n",
        "plt.ylabel('y axis label')\n",
        "# Adauga titlu\n",
        "plt.title('Sine')\n",
        "# Adauga legenda\n",
        "plt.legend(['Sine'])\n",
        "# Afiseaza figura\n",
        "plt.show()"
      ],
      "execution_count": null,
      "outputs": []
    },
    {
      "cell_type": "markdown",
      "metadata": {
        "id": "BAGXqiHVkvnv"
      },
      "source": [
        "OBS. Pentru a plota punctele independent, fără a face interpolare ca în\n",
        "exemplul anterior, se poate specifica un al treilea parametru în funcția plot, astfel:"
      ]
    },
    {
      "cell_type": "markdown",
      "metadata": {
        "id": "TSRm_CSAk1Sy"
      },
      "source": [
        ""
      ]
    },
    {
      "cell_type": "code",
      "metadata": {
        "id": "Rc57vouWktj-"
      },
      "source": [
        "figure(figsize=(8, 6), dpi=80)\n",
        "plt.plot(x, y, 'o')"
      ],
      "execution_count": null,
      "outputs": []
    },
    {
      "cell_type": "markdown",
      "metadata": {
        "id": "IyBnzeUXk1a6"
      },
      "source": [
        "### Plotarea mai multor grafice în cadrul aceleiași figuri:"
      ]
    },
    {
      "cell_type": "code",
      "metadata": {
        "id": "aqUFOTxzkyTP"
      },
      "source": [
        "# Calculeaza coordonatele (x, y) ale punctelor de pe o curba sin, respectiv cos\n",
        "# x - valori de la 0 la 3 * np.pi, luate din 0.1 in 0.1\n",
        "x = np.arange(0, 3 * np.pi, 0.1)\n",
        "y_1 = np.sin(x)\n",
        "y_2 = np.cos(x)\n",
        "\n",
        "figure(figsize=(8, 6), dpi=80)\n",
        "\n",
        "# Ploteaza punctele in aceeasi figura\n",
        "plt.plot(x, y_1)\n",
        "plt.plot(x, y_2)\n",
        "# Adauga titlu\n",
        "plt.title('Sine and Cosine')\n",
        "# Adauga legenda\n",
        "plt.legend(['Sine', 'Cosine'])\n",
        "# Afiseaza figura\n",
        "plt.show()"
      ],
      "execution_count": null,
      "outputs": []
    },
    {
      "cell_type": "code",
      "metadata": {
        "id": "quZ-rkaGlZFP"
      },
      "source": [
        "x = np.arange(0, 3 * np.pi, 0.1)\n",
        "y_1 = np.sin(x)\n",
        "y_2 = np.cos(x)\n",
        "\n",
        "# definim primul plot in figura 1\n",
        "first_plot = figure(1, figsize=(8, 6), dpi=80)\n",
        "plt.plot(x, y_1)\n",
        "plt.title('Sine')\n",
        "plt.legend(['Sine'])\n",
        "\n",
        "# definim cel de-al doilea plot in figura 2\n",
        "second_plot = figure(2, figsize=(8, 6), dpi=80)\n",
        "plt.plot(x, y_2)\n",
        "plt.title('Cosine')\n",
        "plt.legend(['Cosine'])\n",
        "# afisam figurile\n",
        "plt.show()"
      ],
      "execution_count": null,
      "outputs": []
    },
    {
      "cell_type": "markdown",
      "metadata": {
        "id": "v1nzF6KNlpcZ"
      },
      "source": [
        "### Sublotare: putem plota mai multe subfiguri în cadrul aceleiași figuri"
      ]
    },
    {
      "cell_type": "code",
      "metadata": {
        "id": "ok5VjptylmO_"
      },
      "source": [
        "x = np.arange(0, 3 * np.pi, 0.1)\n",
        "y_sin = np.sin(x)\n",
        "y_cos = np.cos(x)\n",
        "\n",
        "\n",
        "figure(figsize=(10, 9), dpi=80)\n",
        "\n",
        "# Creeaza un grid avand inaltimea 2 si latimea 1\n",
        "# si seteaza primul subplot ca activ\n",
        "plt.subplot(2, 1, 1)\n",
        "# Ploteaza primele valori\n",
        "plt.plot(x, y_sin)\n",
        "plt.title('Sine')\n",
        "# Seteaza cel de-al doilea subplot ca activ\n",
        "# si ploteaza al doilea set de date\n",
        "plt.subplot(2, 1, 2)\n",
        "plt.plot(x, y_cos)\n",
        "plt.title('Cosine')\n",
        "# Afiseaza figura\n",
        "plt.show()"
      ],
      "execution_count": null,
      "outputs": []
    },
    {
      "cell_type": "markdown",
      "metadata": {
        "id": "h_xXfExcl-6B"
      },
      "source": [
        "# Exercitii A"
      ]
    },
    {
      "cell_type": "markdown",
      "metadata": {
        "id": "U7yJ-yo9mDpr"
      },
      "source": [
        "1. Plotați implementarea funcției sigmoid din laboratorul anterior\n",
        "2. Dacă `weights = [-2, 5]` si `bias = 0.2`, plotați dreapta corespunzătoare pentru o serie de puncte din spațiul bidimensional. Hint: folosiți [ecuația dreptei](https://sites.google.com/site/videomeditatii/clase-liceale-9-12/clasa-a-10-a/programa-scolara-pentru-matematica-clasa-a-x-a/ecuatia-dreptei-determinate-de-doua-puncte-distincte-din-plan) `x*w1 + y*w2 + bias = 0`"
      ]
    },
    {
      "cell_type": "markdown",
      "metadata": {
        "id": "7yZUxThWmysr"
      },
      "source": [
        "# Exercitii B\n",
        "\n",
        "1. Se dau următoarele 9 imagini de dimensiuni 400x600. Valorile acestora au fost salvate în fișierele “images/car_{idx}.npy”."
      ]
    },
    {
      "cell_type": "code",
      "metadata": {
        "id": "Ft09yQg1qwfM"
      },
      "source": [
        "! rm -rf images*\n",
        "! wget https://github.com/artificial-intelligence-ml-cti/ml_cti/raw/main/laborator2/images.zip\n",
        "! unzip -o images.zip\n",
        "! echo \"*** Fisierele sunt: \"\n",
        "! ls images/\n",
        "! echo \"**** Calea catre directorul cu imagini este: \"\n",
        "! readlink -f images/\n",
        "! echo \"**** Un fisier npy contine: \"\n",
        "! head images/car_0.npy"
      ],
      "execution_count": null,
      "outputs": []
    },
    {
      "cell_type": "markdown",
      "metadata": {
        "id": "c7pBiV-ls60l"
      },
      "source": [
        "------\n",
        "\n",
        "1. Citiți imaginile din aceste fișiere și salvați-le într-un np.array (va avea dimensiunea 9x400x600). Citirea din fișier se face cu ajutorul funcției: `image = np.load(file_path)` Aceasta întoarce un np.array de dimensiune 400x600."
      ]
    },
    {
      "cell_type": "code",
      "metadata": {
        "id": "d93Jj_V5tFhH"
      },
      "source": [
        "# todo:\n",
        "image = np.load('images/car_0.npy')"
      ],
      "execution_count": null,
      "outputs": []
    },
    {
      "cell_type": "markdown",
      "metadata": {
        "id": "46JOh7Bom6_1"
      },
      "source": [
        "-----\n",
        "2. Calculați suma valorilor pixelilor tuturor imaginilor.\n"
      ]
    },
    {
      "cell_type": "markdown",
      "metadata": {
        "id": "Uy2yugUItmRy"
      },
      "source": [
        ""
      ]
    },
    {
      "cell_type": "code",
      "metadata": {
        "id": "xOJgYuPhtJuZ"
      },
      "source": [
        "# todo:"
      ],
      "execution_count": null,
      "outputs": []
    },
    {
      "cell_type": "markdown",
      "metadata": {
        "id": "TtlhWSIxtM5O"
      },
      "source": [
        "----\n",
        "3. Calculați suma valorilor pixelilor pentru fiecare imagine în parte."
      ]
    },
    {
      "cell_type": "code",
      "metadata": {
        "id": "C7aZ3536tLaM"
      },
      "source": [
        "# todo:\n"
      ],
      "execution_count": null,
      "outputs": []
    },
    {
      "cell_type": "markdown",
      "metadata": {
        "id": "N-0vVGAetRS5"
      },
      "source": [
        "----\n",
        "4. Afișați indexul imaginii cu suma maximă."
      ]
    },
    {
      "cell_type": "code",
      "metadata": {
        "id": "YbLVyh57tXbO"
      },
      "source": [
        "# todo:"
      ],
      "execution_count": null,
      "outputs": []
    },
    {
      "cell_type": "markdown",
      "metadata": {
        "id": "PyZdI-I8tYqt"
      },
      "source": [
        "----\n",
        "5. Calculați imaginea medie și afișati-o.\n",
        "Afișarea imaginii medii se poate face folosind biblioteca scikit-image în\n",
        "următorul mod:"
      ]
    },
    {
      "cell_type": "code",
      "metadata": {
        "id": "tL32y191uS5M"
      },
      "source": [
        "! pip install scikit-image"
      ],
      "execution_count": null,
      "outputs": []
    },
    {
      "cell_type": "code",
      "metadata": {
        "id": "aKgbIRG1tdpO"
      },
      "source": [
        "from skimage import io\n",
        "\n",
        "io.imshow(image.astype(np.uint8)) # petru a putea fi afisata\n",
        "# imaginea trebuie sa aiba\n",
        "# tipul unsigned int\n",
        "io.show()"
      ],
      "execution_count": null,
      "outputs": []
    },
    {
      "cell_type": "markdown",
      "metadata": {
        "id": "5PQiJTlytoUH"
      },
      "source": [
        "----\n",
        "6. Cu ajutorul funcției `np.std(images_array)`, calculați deviația standard a\n",
        "imaginilor."
      ]
    },
    {
      "cell_type": "code",
      "metadata": {
        "id": "PPiupnGTvdrC"
      },
      "source": [
        "# todo:"
      ],
      "execution_count": null,
      "outputs": []
    },
    {
      "cell_type": "markdown",
      "metadata": {
        "id": "O8q3pPG3vc9s"
      },
      "source": [
        "----\n",
        "7. Normalizați imaginile (se scade imaginea medie și se împarte rezultatul la deviația standard)"
      ]
    },
    {
      "cell_type": "code",
      "metadata": {
        "id": "hCMjtojavmTE"
      },
      "source": [
        "# todo:"
      ],
      "execution_count": null,
      "outputs": []
    },
    {
      "cell_type": "markdown",
      "metadata": {
        "id": "RaHesU38vogJ"
      },
      "source": [
        "----\n",
        "8. Decupați fiecare imagine, afișând numai liniile cuprinse între 200 și 300, respectiv coloanele cuprinse între 280 și 400."
      ]
    },
    {
      "cell_type": "code",
      "metadata": {
        "id": "UnB66cJVvqG1"
      },
      "source": [
        "# todo:"
      ],
      "execution_count": null,
      "outputs": []
    }
  ]
}