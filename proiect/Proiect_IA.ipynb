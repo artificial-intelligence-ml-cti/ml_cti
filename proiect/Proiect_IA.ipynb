{
  "nbformat": 4,
  "nbformat_minor": 0,
  "metadata": {
    "colab": {
      "name": "Proiect IA (CWI).ipynb",
      "provenance": [],
      "collapsed_sections": []
    },
    "kernelspec": {
      "name": "python3",
      "display_name": "Python 3"
    },
    "language_info": {
      "name": "python"
    }
  },
  "cells": [
    {
      "cell_type": "markdown",
      "metadata": {
        "id": "ZhD3aXxioto5"
      },
      "source": [
        "# Instalarea pachetelor necesare"
      ]
    },
    {
      "cell_type": "markdown",
      "metadata": {
        "id": "XRyEuqqVQ9yZ"
      },
      "source": [
        "## Dale Chall Word List\n",
        "\n",
        "https://www.readabilityformulas.com/articles/dale-chall-readability-word-list.php\n",
        "1. The Dale-Chall Word List contains approximately three thousand familiar words  that are known in reading by at least 80 percent of the children in Grade 5. \n",
        "2. It gives a significant correlation with reading difficulty. \n",
        "3. It is not intended as a list of the most important words for children or adults. \n",
        "4. It includes words that are relatively unimportant and excludes some important ones."
      ]
    },
    {
      "cell_type": "code",
      "metadata": {
        "colab": {
          "base_uri": "https://localhost:8080/"
        },
        "id": "ANu4K6BwQBcb",
        "outputId": "e5edb7cb-0fde-4352-cc0d-775d36ece620"
      },
      "source": [
        "# download in shell \n",
        "! rm -f *.py\n",
        "! wget https://raw.githubusercontent.com/artificial-intelligence-ml-cti/ml_cti/main/proiect/dale_chall.py"
      ],
      "execution_count": 6,
      "outputs": [
        {
          "output_type": "stream",
          "name": "stdout",
          "text": [
            "--2021-11-02 15:26:25--  https://raw.githubusercontent.com/artificial-intelligence-ml-cti/ml_cti/main/proiect/dale_chall.py\n",
            "Resolving raw.githubusercontent.com (raw.githubusercontent.com)... 185.199.108.133, 185.199.109.133, 185.199.110.133, ...\n",
            "Connecting to raw.githubusercontent.com (raw.githubusercontent.com)|185.199.108.133|:443... connected.\n",
            "HTTP request sent, awaiting response... 200 OK\n",
            "Length: 27456 (27K) [text/plain]\n",
            "Saving to: ‘dale_chall.py’\n",
            "\n",
            "\rdale_chall.py         0%[                    ]       0  --.-KB/s               \rdale_chall.py       100%[===================>]  26.81K  --.-KB/s    in 0s      \n",
            "\n",
            "2021-11-02 15:26:25 (128 MB/s) - ‘dale_chall.py’ saved [27456/27456]\n",
            "\n",
            "/content\n"
          ]
        }
      ]
    },
    {
      "cell_type": "markdown",
      "metadata": {
        "id": "OV1VnsHrRPgn"
      },
      "source": [
        "## Instalarea pachetelor cu pip"
      ]
    },
    {
      "cell_type": "code",
      "metadata": {
        "colab": {
          "base_uri": "https://localhost:8080/"
        },
        "id": "dlTAT6PKMeeB",
        "outputId": "4da0e290-a8f7-4342-eced-454542631c19"
      },
      "source": [
        "!pip install pyphen nltk pandas sklearn "
      ],
      "execution_count": 1,
      "outputs": [
        {
          "output_type": "stream",
          "name": "stdout",
          "text": [
            "Collecting pyphen\n",
            "  Downloading pyphen-0.11.0-py3-none-any.whl (2.0 MB)\n",
            "\u001b[?25l\r\u001b[K     |▏                               | 10 kB 23.6 MB/s eta 0:00:01\r\u001b[K     |▍                               | 20 kB 32.2 MB/s eta 0:00:01\r\u001b[K     |▌                               | 30 kB 38.2 MB/s eta 0:00:01\r\u001b[K     |▊                               | 40 kB 39.8 MB/s eta 0:00:01\r\u001b[K     |▉                               | 51 kB 17.7 MB/s eta 0:00:01\r\u001b[K     |█                               | 61 kB 19.4 MB/s eta 0:00:01\r\u001b[K     |█▏                              | 71 kB 14.6 MB/s eta 0:00:01\r\u001b[K     |█▍                              | 81 kB 16.2 MB/s eta 0:00:01\r\u001b[K     |█▌                              | 92 kB 14.3 MB/s eta 0:00:01\r\u001b[K     |█▊                              | 102 kB 14.9 MB/s eta 0:00:01\r\u001b[K     |█▉                              | 112 kB 14.9 MB/s eta 0:00:01\r\u001b[K     |██                              | 122 kB 14.9 MB/s eta 0:00:01\r\u001b[K     |██▏                             | 133 kB 14.9 MB/s eta 0:00:01\r\u001b[K     |██▍                             | 143 kB 14.9 MB/s eta 0:00:01\r\u001b[K     |██▌                             | 153 kB 14.9 MB/s eta 0:00:01\r\u001b[K     |██▊                             | 163 kB 14.9 MB/s eta 0:00:01\r\u001b[K     |██▉                             | 174 kB 14.9 MB/s eta 0:00:01\r\u001b[K     |███                             | 184 kB 14.9 MB/s eta 0:00:01\r\u001b[K     |███▏                            | 194 kB 14.9 MB/s eta 0:00:01\r\u001b[K     |███▍                            | 204 kB 14.9 MB/s eta 0:00:01\r\u001b[K     |███▌                            | 215 kB 14.9 MB/s eta 0:00:01\r\u001b[K     |███▊                            | 225 kB 14.9 MB/s eta 0:00:01\r\u001b[K     |███▉                            | 235 kB 14.9 MB/s eta 0:00:01\r\u001b[K     |████                            | 245 kB 14.9 MB/s eta 0:00:01\r\u001b[K     |████▏                           | 256 kB 14.9 MB/s eta 0:00:01\r\u001b[K     |████▍                           | 266 kB 14.9 MB/s eta 0:00:01\r\u001b[K     |████▌                           | 276 kB 14.9 MB/s eta 0:00:01\r\u001b[K     |████▊                           | 286 kB 14.9 MB/s eta 0:00:01\r\u001b[K     |████▉                           | 296 kB 14.9 MB/s eta 0:00:01\r\u001b[K     |█████                           | 307 kB 14.9 MB/s eta 0:00:01\r\u001b[K     |█████▏                          | 317 kB 14.9 MB/s eta 0:00:01\r\u001b[K     |█████▍                          | 327 kB 14.9 MB/s eta 0:00:01\r\u001b[K     |█████▌                          | 337 kB 14.9 MB/s eta 0:00:01\r\u001b[K     |█████▊                          | 348 kB 14.9 MB/s eta 0:00:01\r\u001b[K     |█████▉                          | 358 kB 14.9 MB/s eta 0:00:01\r\u001b[K     |██████                          | 368 kB 14.9 MB/s eta 0:00:01\r\u001b[K     |██████▏                         | 378 kB 14.9 MB/s eta 0:00:01\r\u001b[K     |██████▍                         | 389 kB 14.9 MB/s eta 0:00:01\r\u001b[K     |██████▌                         | 399 kB 14.9 MB/s eta 0:00:01\r\u001b[K     |██████▊                         | 409 kB 14.9 MB/s eta 0:00:01\r\u001b[K     |██████▉                         | 419 kB 14.9 MB/s eta 0:00:01\r\u001b[K     |███████                         | 430 kB 14.9 MB/s eta 0:00:01\r\u001b[K     |███████▏                        | 440 kB 14.9 MB/s eta 0:00:01\r\u001b[K     |███████▍                        | 450 kB 14.9 MB/s eta 0:00:01\r\u001b[K     |███████▌                        | 460 kB 14.9 MB/s eta 0:00:01\r\u001b[K     |███████▊                        | 471 kB 14.9 MB/s eta 0:00:01\r\u001b[K     |███████▉                        | 481 kB 14.9 MB/s eta 0:00:01\r\u001b[K     |████████                        | 491 kB 14.9 MB/s eta 0:00:01\r\u001b[K     |████████▎                       | 501 kB 14.9 MB/s eta 0:00:01\r\u001b[K     |████████▍                       | 512 kB 14.9 MB/s eta 0:00:01\r\u001b[K     |████████▋                       | 522 kB 14.9 MB/s eta 0:00:01\r\u001b[K     |████████▊                       | 532 kB 14.9 MB/s eta 0:00:01\r\u001b[K     |█████████                       | 542 kB 14.9 MB/s eta 0:00:01\r\u001b[K     |█████████                       | 552 kB 14.9 MB/s eta 0:00:01\r\u001b[K     |█████████▎                      | 563 kB 14.9 MB/s eta 0:00:01\r\u001b[K     |█████████▍                      | 573 kB 14.9 MB/s eta 0:00:01\r\u001b[K     |█████████▋                      | 583 kB 14.9 MB/s eta 0:00:01\r\u001b[K     |█████████▊                      | 593 kB 14.9 MB/s eta 0:00:01\r\u001b[K     |██████████                      | 604 kB 14.9 MB/s eta 0:00:01\r\u001b[K     |██████████                      | 614 kB 14.9 MB/s eta 0:00:01\r\u001b[K     |██████████▎                     | 624 kB 14.9 MB/s eta 0:00:01\r\u001b[K     |██████████▍                     | 634 kB 14.9 MB/s eta 0:00:01\r\u001b[K     |██████████▋                     | 645 kB 14.9 MB/s eta 0:00:01\r\u001b[K     |██████████▊                     | 655 kB 14.9 MB/s eta 0:00:01\r\u001b[K     |███████████                     | 665 kB 14.9 MB/s eta 0:00:01\r\u001b[K     |███████████                     | 675 kB 14.9 MB/s eta 0:00:01\r\u001b[K     |███████████▎                    | 686 kB 14.9 MB/s eta 0:00:01\r\u001b[K     |███████████▍                    | 696 kB 14.9 MB/s eta 0:00:01\r\u001b[K     |███████████▋                    | 706 kB 14.9 MB/s eta 0:00:01\r\u001b[K     |███████████▊                    | 716 kB 14.9 MB/s eta 0:00:01\r\u001b[K     |████████████                    | 727 kB 14.9 MB/s eta 0:00:01\r\u001b[K     |████████████                    | 737 kB 14.9 MB/s eta 0:00:01\r\u001b[K     |████████████▎                   | 747 kB 14.9 MB/s eta 0:00:01\r\u001b[K     |████████████▍                   | 757 kB 14.9 MB/s eta 0:00:01\r\u001b[K     |████████████▋                   | 768 kB 14.9 MB/s eta 0:00:01\r\u001b[K     |████████████▊                   | 778 kB 14.9 MB/s eta 0:00:01\r\u001b[K     |█████████████                   | 788 kB 14.9 MB/s eta 0:00:01\r\u001b[K     |█████████████                   | 798 kB 14.9 MB/s eta 0:00:01\r\u001b[K     |█████████████▎                  | 808 kB 14.9 MB/s eta 0:00:01\r\u001b[K     |█████████████▍                  | 819 kB 14.9 MB/s eta 0:00:01\r\u001b[K     |█████████████▋                  | 829 kB 14.9 MB/s eta 0:00:01\r\u001b[K     |█████████████▊                  | 839 kB 14.9 MB/s eta 0:00:01\r\u001b[K     |██████████████                  | 849 kB 14.9 MB/s eta 0:00:01\r\u001b[K     |██████████████                  | 860 kB 14.9 MB/s eta 0:00:01\r\u001b[K     |██████████████▎                 | 870 kB 14.9 MB/s eta 0:00:01\r\u001b[K     |██████████████▍                 | 880 kB 14.9 MB/s eta 0:00:01\r\u001b[K     |██████████████▋                 | 890 kB 14.9 MB/s eta 0:00:01\r\u001b[K     |██████████████▊                 | 901 kB 14.9 MB/s eta 0:00:01\r\u001b[K     |███████████████                 | 911 kB 14.9 MB/s eta 0:00:01\r\u001b[K     |███████████████                 | 921 kB 14.9 MB/s eta 0:00:01\r\u001b[K     |███████████████▎                | 931 kB 14.9 MB/s eta 0:00:01\r\u001b[K     |███████████████▍                | 942 kB 14.9 MB/s eta 0:00:01\r\u001b[K     |███████████████▋                | 952 kB 14.9 MB/s eta 0:00:01\r\u001b[K     |███████████████▊                | 962 kB 14.9 MB/s eta 0:00:01\r\u001b[K     |████████████████                | 972 kB 14.9 MB/s eta 0:00:01\r\u001b[K     |████████████████                | 983 kB 14.9 MB/s eta 0:00:01\r\u001b[K     |████████████████▎               | 993 kB 14.9 MB/s eta 0:00:01\r\u001b[K     |████████████████▌               | 1.0 MB 14.9 MB/s eta 0:00:01\r\u001b[K     |████████████████▋               | 1.0 MB 14.9 MB/s eta 0:00:01\r\u001b[K     |████████████████▉               | 1.0 MB 14.9 MB/s eta 0:00:01\r\u001b[K     |█████████████████               | 1.0 MB 14.9 MB/s eta 0:00:01\r\u001b[K     |█████████████████▏              | 1.0 MB 14.9 MB/s eta 0:00:01\r\u001b[K     |█████████████████▎              | 1.1 MB 14.9 MB/s eta 0:00:01\r\u001b[K     |█████████████████▌              | 1.1 MB 14.9 MB/s eta 0:00:01\r\u001b[K     |█████████████████▋              | 1.1 MB 14.9 MB/s eta 0:00:01\r\u001b[K     |█████████████████▉              | 1.1 MB 14.9 MB/s eta 0:00:01\r\u001b[K     |██████████████████              | 1.1 MB 14.9 MB/s eta 0:00:01\r\u001b[K     |██████████████████▏             | 1.1 MB 14.9 MB/s eta 0:00:01\r\u001b[K     |██████████████████▎             | 1.1 MB 14.9 MB/s eta 0:00:01\r\u001b[K     |██████████████████▌             | 1.1 MB 14.9 MB/s eta 0:00:01\r\u001b[K     |██████████████████▋             | 1.1 MB 14.9 MB/s eta 0:00:01\r\u001b[K     |██████████████████▉             | 1.1 MB 14.9 MB/s eta 0:00:01\r\u001b[K     |███████████████████             | 1.2 MB 14.9 MB/s eta 0:00:01\r\u001b[K     |███████████████████▏            | 1.2 MB 14.9 MB/s eta 0:00:01\r\u001b[K     |███████████████████▎            | 1.2 MB 14.9 MB/s eta 0:00:01\r\u001b[K     |███████████████████▌            | 1.2 MB 14.9 MB/s eta 0:00:01\r\u001b[K     |███████████████████▋            | 1.2 MB 14.9 MB/s eta 0:00:01\r\u001b[K     |███████████████████▉            | 1.2 MB 14.9 MB/s eta 0:00:01\r\u001b[K     |████████████████████            | 1.2 MB 14.9 MB/s eta 0:00:01\r\u001b[K     |████████████████████▏           | 1.2 MB 14.9 MB/s eta 0:00:01\r\u001b[K     |████████████████████▎           | 1.2 MB 14.9 MB/s eta 0:00:01\r\u001b[K     |████████████████████▌           | 1.2 MB 14.9 MB/s eta 0:00:01\r\u001b[K     |████████████████████▋           | 1.3 MB 14.9 MB/s eta 0:00:01\r\u001b[K     |████████████████████▉           | 1.3 MB 14.9 MB/s eta 0:00:01\r\u001b[K     |█████████████████████           | 1.3 MB 14.9 MB/s eta 0:00:01\r\u001b[K     |█████████████████████▏          | 1.3 MB 14.9 MB/s eta 0:00:01\r\u001b[K     |█████████████████████▎          | 1.3 MB 14.9 MB/s eta 0:00:01\r\u001b[K     |█████████████████████▌          | 1.3 MB 14.9 MB/s eta 0:00:01\r\u001b[K     |█████████████████████▋          | 1.3 MB 14.9 MB/s eta 0:00:01\r\u001b[K     |█████████████████████▉          | 1.3 MB 14.9 MB/s eta 0:00:01\r\u001b[K     |██████████████████████          | 1.3 MB 14.9 MB/s eta 0:00:01\r\u001b[K     |██████████████████████▏         | 1.4 MB 14.9 MB/s eta 0:00:01\r\u001b[K     |██████████████████████▎         | 1.4 MB 14.9 MB/s eta 0:00:01\r\u001b[K     |██████████████████████▌         | 1.4 MB 14.9 MB/s eta 0:00:01\r\u001b[K     |██████████████████████▋         | 1.4 MB 14.9 MB/s eta 0:00:01\r\u001b[K     |██████████████████████▉         | 1.4 MB 14.9 MB/s eta 0:00:01\r\u001b[K     |███████████████████████         | 1.4 MB 14.9 MB/s eta 0:00:01\r\u001b[K     |███████████████████████▏        | 1.4 MB 14.9 MB/s eta 0:00:01\r\u001b[K     |███████████████████████▎        | 1.4 MB 14.9 MB/s eta 0:00:01\r\u001b[K     |███████████████████████▌        | 1.4 MB 14.9 MB/s eta 0:00:01\r\u001b[K     |███████████████████████▋        | 1.4 MB 14.9 MB/s eta 0:00:01\r\u001b[K     |███████████████████████▉        | 1.5 MB 14.9 MB/s eta 0:00:01\r\u001b[K     |████████████████████████        | 1.5 MB 14.9 MB/s eta 0:00:01\r\u001b[K     |████████████████████████▏       | 1.5 MB 14.9 MB/s eta 0:00:01\r\u001b[K     |████████████████████████▎       | 1.5 MB 14.9 MB/s eta 0:00:01\r\u001b[K     |████████████████████████▌       | 1.5 MB 14.9 MB/s eta 0:00:01\r\u001b[K     |████████████████████████▊       | 1.5 MB 14.9 MB/s eta 0:00:01\r\u001b[K     |████████████████████████▉       | 1.5 MB 14.9 MB/s eta 0:00:01\r\u001b[K     |█████████████████████████       | 1.5 MB 14.9 MB/s eta 0:00:01\r\u001b[K     |█████████████████████████▏      | 1.5 MB 14.9 MB/s eta 0:00:01\r\u001b[K     |█████████████████████████▍      | 1.5 MB 14.9 MB/s eta 0:00:01\r\u001b[K     |█████████████████████████▌      | 1.6 MB 14.9 MB/s eta 0:00:01\r\u001b[K     |█████████████████████████▊      | 1.6 MB 14.9 MB/s eta 0:00:01\r\u001b[K     |█████████████████████████▉      | 1.6 MB 14.9 MB/s eta 0:00:01\r\u001b[K     |██████████████████████████      | 1.6 MB 14.9 MB/s eta 0:00:01\r\u001b[K     |██████████████████████████▏     | 1.6 MB 14.9 MB/s eta 0:00:01\r\u001b[K     |██████████████████████████▍     | 1.6 MB 14.9 MB/s eta 0:00:01\r\u001b[K     |██████████████████████████▌     | 1.6 MB 14.9 MB/s eta 0:00:01\r\u001b[K     |██████████████████████████▊     | 1.6 MB 14.9 MB/s eta 0:00:01\r\u001b[K     |██████████████████████████▉     | 1.6 MB 14.9 MB/s eta 0:00:01\r\u001b[K     |███████████████████████████     | 1.6 MB 14.9 MB/s eta 0:00:01\r\u001b[K     |███████████████████████████▏    | 1.7 MB 14.9 MB/s eta 0:00:01\r\u001b[K     |███████████████████████████▍    | 1.7 MB 14.9 MB/s eta 0:00:01\r\u001b[K     |███████████████████████████▌    | 1.7 MB 14.9 MB/s eta 0:00:01\r\u001b[K     |███████████████████████████▊    | 1.7 MB 14.9 MB/s eta 0:00:01\r\u001b[K     |███████████████████████████▉    | 1.7 MB 14.9 MB/s eta 0:00:01\r\u001b[K     |████████████████████████████    | 1.7 MB 14.9 MB/s eta 0:00:01\r\u001b[K     |████████████████████████████▏   | 1.7 MB 14.9 MB/s eta 0:00:01\r\u001b[K     |████████████████████████████▍   | 1.7 MB 14.9 MB/s eta 0:00:01\r\u001b[K     |████████████████████████████▌   | 1.7 MB 14.9 MB/s eta 0:00:01\r\u001b[K     |████████████████████████████▊   | 1.8 MB 14.9 MB/s eta 0:00:01\r\u001b[K     |████████████████████████████▉   | 1.8 MB 14.9 MB/s eta 0:00:01\r\u001b[K     |█████████████████████████████   | 1.8 MB 14.9 MB/s eta 0:00:01\r\u001b[K     |█████████████████████████████▏  | 1.8 MB 14.9 MB/s eta 0:00:01\r\u001b[K     |█████████████████████████████▍  | 1.8 MB 14.9 MB/s eta 0:00:01\r\u001b[K     |█████████████████████████████▌  | 1.8 MB 14.9 MB/s eta 0:00:01\r\u001b[K     |█████████████████████████████▊  | 1.8 MB 14.9 MB/s eta 0:00:01\r\u001b[K     |█████████████████████████████▉  | 1.8 MB 14.9 MB/s eta 0:00:01\r\u001b[K     |██████████████████████████████  | 1.8 MB 14.9 MB/s eta 0:00:01\r\u001b[K     |██████████████████████████████▏ | 1.8 MB 14.9 MB/s eta 0:00:01\r\u001b[K     |██████████████████████████████▍ | 1.9 MB 14.9 MB/s eta 0:00:01\r\u001b[K     |██████████████████████████████▌ | 1.9 MB 14.9 MB/s eta 0:00:01\r\u001b[K     |██████████████████████████████▊ | 1.9 MB 14.9 MB/s eta 0:00:01\r\u001b[K     |██████████████████████████████▉ | 1.9 MB 14.9 MB/s eta 0:00:01\r\u001b[K     |███████████████████████████████ | 1.9 MB 14.9 MB/s eta 0:00:01\r\u001b[K     |███████████████████████████████▏| 1.9 MB 14.9 MB/s eta 0:00:01\r\u001b[K     |███████████████████████████████▍| 1.9 MB 14.9 MB/s eta 0:00:01\r\u001b[K     |███████████████████████████████▌| 1.9 MB 14.9 MB/s eta 0:00:01\r\u001b[K     |███████████████████████████████▊| 1.9 MB 14.9 MB/s eta 0:00:01\r\u001b[K     |███████████████████████████████▉| 1.9 MB 14.9 MB/s eta 0:00:01\r\u001b[K     |████████████████████████████████| 2.0 MB 14.9 MB/s \n",
            "\u001b[?25hRequirement already satisfied: nltk in /usr/local/lib/python3.7/dist-packages (3.2.5)\n",
            "Requirement already satisfied: pandas in /usr/local/lib/python3.7/dist-packages (1.1.5)\n",
            "Requirement already satisfied: sklearn in /usr/local/lib/python3.7/dist-packages (0.0)\n",
            "Requirement already satisfied: six in /usr/local/lib/python3.7/dist-packages (from nltk) (1.15.0)\n",
            "Requirement already satisfied: numpy>=1.15.4 in /usr/local/lib/python3.7/dist-packages (from pandas) (1.19.5)\n",
            "Requirement already satisfied: pytz>=2017.2 in /usr/local/lib/python3.7/dist-packages (from pandas) (2018.9)\n",
            "Requirement already satisfied: python-dateutil>=2.7.3 in /usr/local/lib/python3.7/dist-packages (from pandas) (2.8.2)\n",
            "Requirement already satisfied: scikit-learn in /usr/local/lib/python3.7/dist-packages (from sklearn) (0.22.2.post1)\n",
            "Requirement already satisfied: scipy>=0.17.0 in /usr/local/lib/python3.7/dist-packages (from scikit-learn->sklearn) (1.4.1)\n",
            "Requirement already satisfied: joblib>=0.11 in /usr/local/lib/python3.7/dist-packages (from scikit-learn->sklearn) (1.0.1)\n",
            "Installing collected packages: pyphen\n",
            "Successfully installed pyphen-0.11.0\n"
          ]
        }
      ]
    },
    {
      "cell_type": "markdown",
      "metadata": {
        "id": "sgmY6pGORSvP"
      },
      "source": [
        "## Instalarea resurselor pentru nltk"
      ]
    },
    {
      "cell_type": "code",
      "metadata": {
        "id": "qtXdG0dZRNT5"
      },
      "source": [
        "# pentru nltk trebuie sa downloadam resursele necesare lucrului cu wordnet si tokenizer\n",
        "import nltk\n",
        "nltk.download('punkt')\n",
        "nltk.download('wordnet')"
      ],
      "execution_count": null,
      "outputs": []
    },
    {
      "cell_type": "markdown",
      "metadata": {
        "id": "oD5p6sgmSnqp"
      },
      "source": [
        "# Downloadarea datelor"
      ]
    },
    {
      "cell_type": "code",
      "metadata": {
        "colab": {
          "base_uri": "https://localhost:8080/"
        },
        "id": "XeIYhxG1Sp-z",
        "outputId": "2c8bf1b3-f3f2-47dc-96b9-1e7b79975afb"
      },
      "source": [
        "! rm -rf data*\n",
        "! wget https://github.com/artificial-intelligence-ml-cti/ml_cti/raw/main/proiect/data.zip\n",
        "! unzip \"data.zip\"\n",
        "\n",
        "! echo \"***\\n Fisierele sunt: \"\n",
        "! ls data/\n",
        "! echo \"****\\n Calea catre directorul cu date este: \"\n",
        "! readlink -f data/"
      ],
      "execution_count": 10,
      "outputs": [
        {
          "output_type": "stream",
          "name": "stdout",
          "text": [
            "--2021-11-02 15:36:47--  https://github.com/artificial-intelligence-ml-cti/ml_cti/raw/main/proiect/data.zip\n",
            "Resolving github.com (github.com)... 140.82.121.4\n",
            "Connecting to github.com (github.com)|140.82.121.4|:443... connected.\n",
            "HTTP request sent, awaiting response... 302 Found\n",
            "Location: https://raw.githubusercontent.com/artificial-intelligence-ml-cti/ml_cti/main/proiect/data.zip [following]\n",
            "--2021-11-02 15:36:47--  https://raw.githubusercontent.com/artificial-intelligence-ml-cti/ml_cti/main/proiect/data.zip\n",
            "Resolving raw.githubusercontent.com (raw.githubusercontent.com)... 185.199.108.133, 185.199.109.133, 185.199.110.133, ...\n",
            "Connecting to raw.githubusercontent.com (raw.githubusercontent.com)|185.199.108.133|:443... connected.\n",
            "HTTP request sent, awaiting response... 200 OK\n",
            "Length: 741506 (724K) [application/zip]\n",
            "Saving to: ‘data.zip’\n",
            "\n",
            "data.zip            100%[===================>] 724.13K  --.-KB/s    in 0.02s   \n",
            "\n",
            "2021-11-02 15:36:48 (39.3 MB/s) - ‘data.zip’ saved [741506/741506]\n",
            "\n",
            "Archive:  data.zip\n",
            "   creating: data/\n",
            "  inflating: data/test.xlsx          \n",
            "  inflating: data/train.xlsx         \n",
            "***\\n Fisierele sunt: \n",
            "test.xlsx  train.xlsx\n",
            "****\\n Calea catre directorul cu date este: \n",
            "/content/data\n"
          ]
        }
      ]
    },
    {
      "cell_type": "markdown",
      "metadata": {
        "id": "VoAF9TTHPX_L"
      },
      "source": [
        "# Cod de baza pentru proiect"
      ]
    },
    {
      "cell_type": "code",
      "metadata": {
        "id": "NANdSpHbMsd4"
      },
      "source": [
        "import pyphen\n",
        "import numpy as np\n",
        "import pandas as pd\n",
        "\n",
        "from nltk.corpus import wordnet\n",
        "from nltk.tokenize import word_tokenize\n",
        "\n",
        "from sklearn.neighbors import KNeighborsClassifier\n",
        "from sklearn.metrics import balanced_accuracy_score\n",
        "\n",
        "from dale_chall import DALE_CHALL\n"
      ],
      "execution_count": 8,
      "outputs": []
    },
    {
      "cell_type": "markdown",
      "metadata": {
        "id": "JjiVyHlwo1ea"
      },
      "source": [
        "## Citirea datelor in dataframe"
      ]
    },
    {
      "cell_type": "code",
      "metadata": {
        "id": "dus6XUoo3MAq",
        "colab": {
          "base_uri": "https://localhost:8080/"
        },
        "outputId": "4668a270-4a83-4531-a685-1deb22fdf1b3"
      },
      "source": [
        "dtypes = {\"sentence\": \"string\", \"token\": \"string\", \"complexity\": \"float64\"}\n",
        "train = pd.read_excel('/content/data/train.xlsx', dtype=dtypes, keep_default_na=False)\n",
        "test = pd.read_excel('/content/data/test.xlsx', dtype=dtypes, keep_default_na=False)\n",
        "\n",
        "print('train data: ', train.shape)\n",
        "print('test data: ', test.shape)"
      ],
      "execution_count": 13,
      "outputs": [
        {
          "output_type": "stream",
          "name": "stdout",
          "text": [
            "train data:  (7662, 4)\n",
            "test data:  (1338, 3)\n"
          ]
        }
      ]
    },
    {
      "cell_type": "markdown",
      "metadata": {
        "id": "yTflnpLLpKlY"
      },
      "source": [
        "## Generarea de caracteristici legate de structura cuvantului pentru cuvantul tinta "
      ]
    },
    {
      "cell_type": "code",
      "metadata": {
        "id": "5msOGrIMhWKy"
      },
      "source": [
        "def get_word_structure_features(word):\n",
        "    features = []\n",
        "    features.append(nr_syllables(word))\n",
        "    features.append(is_dale_chall(word))\n",
        "    features.append(length(word))\n",
        "    features.append(nr_vowels(word))\n",
        "    features.append(is_title(word))\n",
        "    return np.array(features)"
      ],
      "execution_count": null,
      "outputs": []
    },
    {
      "cell_type": "markdown",
      "metadata": {
        "id": "UnvvIEMuzlR3"
      },
      "source": [
        "## Generarea de caracteristici folosind Wordnet pentru cuvantul tinta"
      ]
    },
    {
      "cell_type": "code",
      "metadata": {
        "id": "vaPL4OO0mDDM"
      },
      "source": [
        "def get_wordnet_features(word):\n",
        "  features = []\n",
        "  features.append(synsets(word))\n",
        "  return np.array(features)"
      ],
      "execution_count": null,
      "outputs": []
    },
    {
      "cell_type": "markdown",
      "metadata": {
        "id": "jczmTFWpp9wv"
      },
      "source": [
        "## Apelul functiilor de generare de caracteristici"
      ]
    },
    {
      "cell_type": "code",
      "metadata": {
        "id": "LtOi-kl0hZuL"
      },
      "source": [
        "def featurize(row):\n",
        "    word = row['token']\n",
        "    all_features = []\n",
        "    all_features.extend(corpus_feature(row['corpus']))\n",
        "    all_features.extend(get_word_structure_features(word))\n",
        "    all_features.extend(get_wordnet_features(word))\n",
        "    return np.array(all_features)"
      ],
      "execution_count": null,
      "outputs": []
    },
    {
      "cell_type": "code",
      "metadata": {
        "id": "3esMXC0-hexu"
      },
      "source": [
        "def featurize_df(df):\n",
        "    nr_of_features = len(featurize(df.iloc[0]))\n",
        "    nr_of_examples = len(df)\n",
        "    features = np.zeros((nr_of_examples, nr_of_features))\n",
        "    for index, row in df.iterrows():\n",
        "        row_ftrs = featurize(row)\n",
        "        features[index, :] = row_ftrs\n",
        "    return features"
      ],
      "execution_count": null,
      "outputs": []
    },
    {
      "cell_type": "markdown",
      "metadata": {
        "id": "8rfEGQJrqN3m"
      },
      "source": [
        "## Generarea de caracteristici pentru setul de train"
      ]
    },
    {
      "cell_type": "code",
      "metadata": {
        "id": "6OgTsm7QhjYI"
      },
      "source": [
        "X_train = featurize_df(train)\n",
        "y_train = train['complex'].values"
      ],
      "execution_count": null,
      "outputs": []
    },
    {
      "cell_type": "markdown",
      "metadata": {
        "id": "MdTICcKrqRfn"
      },
      "source": [
        "## Generarea de caracteristici pentru setul de test"
      ]
    },
    {
      "cell_type": "code",
      "metadata": {
        "id": "jZCOEu3Th9i0"
      },
      "source": [
        "X_test = featurize_df(test)"
      ],
      "execution_count": null,
      "outputs": []
    },
    {
      "cell_type": "code",
      "metadata": {
        "id": "NGNHfW9Ah7WF"
      },
      "source": [
        "for nb in range(1, 8, 2):\n",
        "    model = KNeighborsClassifier(n_neighbors=nb)\n",
        "    model.fit(X_train, y_train)\n",
        "    preds = model.predict(X_test)"
      ],
      "execution_count": null,
      "outputs": []
    }
  ]
}